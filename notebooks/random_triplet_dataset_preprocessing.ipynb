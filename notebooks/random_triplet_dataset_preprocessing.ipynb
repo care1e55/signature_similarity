{
 "metadata": {
  "language_info": {
   "codemirror_mode": {
    "name": "ipython",
    "version": 3
   },
   "file_extension": ".py",
   "mimetype": "text/x-python",
   "name": "python",
   "nbconvert_exporter": "python",
   "pygments_lexer": "ipython3",
   "version": "3.6.9-final"
  },
  "orig_nbformat": 2,
  "kernelspec": {
   "name": "python36964bitd15b79eb666b49e680de46cc5267520a",
   "display_name": "Python 3.6.9 64-bit"
  }
 },
 "nbformat": 4,
 "nbformat_minor": 2,
 "cells": [
  {
   "cell_type": "code",
   "execution_count": 1,
   "metadata": {},
   "outputs": [],
   "source": [
    "import os\n",
    "from os.path import join, getsize\n",
    "import shutil\n",
    "import pandas as pd\n",
    "import numpy as np\n",
    "import math\n",
    "from tqdm import tqdm"
   ]
  },
  {
   "cell_type": "code",
   "execution_count": 2,
   "metadata": {},
   "outputs": [],
   "source": [
    "# train_base_path = '/home/care1e55/study/DBO/project/gpds/combined/combined/train'\n",
    "# test_base_path = '/home/care1e55/study/DBO/project/gpds/combined/combined/test'"
   ]
  },
  {
   "cell_type": "code",
   "execution_count": 3,
   "metadata": {},
   "outputs": [],
   "source": [
    "# train_base_path = '/home/care1e55/study/DBO/project/sign_data/train'\n",
    "# test_base_path = '/home/care1e55/study/DBO/project/sign_data/test'"
   ]
  },
  {
   "cell_type": "code",
   "execution_count": 4,
   "metadata": {},
   "outputs": [],
   "source": [
    "train_base_path = '/home/care1e55/study/DBO/project/data/train'\n",
    "test_base_path = '/home/care1e55/study/DBO/project/data/test'   "
   ]
  },
  {
   "cell_type": "code",
   "execution_count": 5,
   "metadata": {},
   "outputs": [],
   "source": [
    "dataframes = []\n",
    "files_list = []"
   ]
  },
  {
   "cell_type": "code",
   "execution_count": 6,
   "metadata": {
    "tags": []
   },
   "outputs": [
    {
     "output_type": "stream",
     "name": "stderr",
     "text": "301it [00:00, 8894.81it/s]\n"
    }
   ],
   "source": [
    "for root, dirs, files in tqdm(os.walk(train_base_path)):\n",
    "    if files:\n",
    "        for file in files:\n",
    "            files_list.append(os.path.join(root.split(\"/\")[-1], file))"
   ]
  },
  {
   "cell_type": "code",
   "execution_count": 7,
   "metadata": {},
   "outputs": [],
   "source": [
    "pd.DataFrame(files_list, columns=['sample']).to_csv('/home/care1e55/study/DBO/project/clean/combined_triplet_train.csv', columns=['sample'], index=False)"
   ]
  },
  {
   "cell_type": "code",
   "execution_count": 8,
   "metadata": {},
   "outputs": [],
   "source": [
    "dataframes = []\n",
    "files_list = []"
   ]
  },
  {
   "cell_type": "code",
   "execution_count": 9,
   "metadata": {
    "tags": []
   },
   "outputs": [
    {
     "output_type": "stream",
     "name": "stderr",
     "text": "129it [00:00, 9864.63it/s]\n"
    }
   ],
   "source": [
    "for root, dirs, files in tqdm(os.walk(test_base_path)):\n",
    "    if files:\n",
    "        for file in files:\n",
    "            files_list.append(os.path.join(root.split(\"/\")[-1], file))"
   ]
  },
  {
   "cell_type": "code",
   "execution_count": 10,
   "metadata": {},
   "outputs": [],
   "source": [
    "pd.DataFrame(files_list, columns=['sample']).to_csv('/home/care1e55/study/DBO/project/clean/combined_triplet_test.csv', columns=['sample'], index=False)"
   ]
  },
  {
   "cell_type": "code",
   "execution_count": 11,
   "metadata": {},
   "outputs": [
    {
     "output_type": "execute_result",
     "data": {
      "text/plain": "1649"
     },
     "metadata": {},
     "execution_count": 11
    }
   ],
   "source": [
    "len(files_list)"
   ]
  },
  {
   "cell_type": "code",
   "execution_count": 12,
   "metadata": {},
   "outputs": [
    {
     "output_type": "execute_result",
     "data": {
      "text/plain": "1649"
     },
     "metadata": {},
     "execution_count": 12
    }
   ],
   "source": [
    "len(files_list)"
   ]
  },
  {
   "cell_type": "code",
   "execution_count": 7,
   "metadata": {},
   "outputs": [
    {
     "output_type": "execute_result",
     "data": {
      "text/plain": "['002_forg/0118002_02.png',\n '002_forg/0108002_02.png',\n '002_forg/0110002_03.png',\n '002_forg/0108002_04.png',\n '002_forg/0118002_03.png',\n '002_forg/0108002_03.png',\n '002_forg/0118002_01.png',\n '002_forg/0118002_04.png',\n '002_forg/0110002_04.png',\n '002_forg/0108002_01.png']"
     },
     "metadata": {},
     "execution_count": 7
    }
   ],
   "source": [
    "files_list[:10]"
   ]
  },
  {
   "cell_type": "code",
   "execution_count": null,
   "metadata": {},
   "outputs": [],
   "source": []
  },
  {
   "cell_type": "code",
   "execution_count": null,
   "metadata": {},
   "outputs": [],
   "source": []
  },
  {
   "cell_type": "code",
   "execution_count": null,
   "metadata": {},
   "outputs": [],
   "source": []
  },
  {
   "cell_type": "code",
   "execution_count": null,
   "metadata": {},
   "outputs": [],
   "source": []
  }
 ]
}