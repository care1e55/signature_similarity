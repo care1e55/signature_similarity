{
 "metadata": {
  "language_info": {
   "codemirror_mode": {
    "name": "ipython",
    "version": 3
   },
   "file_extension": ".py",
   "mimetype": "text/x-python",
   "name": "python",
   "nbconvert_exporter": "python",
   "pygments_lexer": "ipython3",
   "version": "3.6.9-final"
  },
  "orig_nbformat": 2,
  "kernelspec": {
   "name": "python36964bitd15b79eb666b49e680de46cc5267520a",
   "display_name": "Python 3.6.9 64-bit"
  }
 },
 "nbformat": 4,
 "nbformat_minor": 2,
 "cells": [
  {
   "cell_type": "code",
   "execution_count": 1,
   "metadata": {},
   "outputs": [],
   "source": [
    "import os\n",
    "from os.path import join, getsize\n",
    "import shutil\n",
    "import pandas as pd\n",
    "import numpy as np\n",
    "import math\n",
    "from tqdm import tqdm"
   ]
  },
  {
   "cell_type": "code",
   "execution_count": 2,
   "metadata": {},
   "outputs": [],
   "source": [
    "test_base_path = '/home/care1e55/study/DBO/project/sign_data/test'\n",
    "train_base_path = '/home/care1e55/study/DBO/project/sign_data/train'"
   ]
  },
  {
   "cell_type": "code",
   "execution_count": 3,
   "metadata": {},
   "outputs": [],
   "source": [
    "dataframes = []\n",
    "files_list = []"
   ]
  },
  {
   "cell_type": "code",
   "execution_count": 4,
   "metadata": {},
   "outputs": [],
   "source": [
    "for root, dirs, files in os.walk(train_base_path):\n",
    "    if files:\n",
    "        dataframes.append(pd.DataFrame([(root.split(\"/\")[-1], file) for file in files ]))"
   ]
  },
  {
   "cell_type": "code",
   "execution_count": 5,
   "metadata": {},
   "outputs": [],
   "source": [
    "# for root, dirs, files in os.walk(test_base_path):\n",
    "#     if files:\n",
    "#         dataframes.append(pd.DataFrame([(root.split(\"/\")[-1], file) for file in files ]))"
   ]
  },
  {
   "cell_type": "code",
   "execution_count": 6,
   "metadata": {},
   "outputs": [
    {
     "output_type": "execute_result",
     "data": {
      "text/plain": "43"
     },
     "metadata": {},
     "execution_count": 6
    }
   ],
   "source": [
    "len(dataframes)//2"
   ]
  },
  {
   "cell_type": "code",
   "execution_count": 7,
   "metadata": {},
   "outputs": [],
   "source": [
    "df_append = pd.DataFrame()"
   ]
  },
  {
   "cell_type": "code",
   "execution_count": 8,
   "metadata": {
    "tags": []
   },
   "outputs": [],
   "source": [
    "# for i in tqdm(range(19800)):\n",
    "for i in range(len(dataframes)):\n",
    "    if '_forg' not in dataframes[i][0][0]:\n",
    "        cur_genuie = dataframes[i]\n",
    "\n",
    "        for j, dataframe in enumerate(dataframes):\n",
    "            if dataframes[i][0][0]+\"_forg\" == dataframes[j][0][0]:\n",
    "                cur_forg = dataframes[j]\n",
    "                break \n",
    "\n",
    "        df_genuie = pd.merge(cur_genuie.assign(foo=1), cur_genuie.assign(foo=1), on='foo', how='outer').drop('foo',1).assign(label=0)\n",
    "        df_genuie['image1'] = df_genuie['0_x'] + '/' + df_genuie['1_x']\n",
    "        df_genuie['image2'] = df_genuie['0_y'] + '/' + df_genuie['1_y']\n",
    "        \n",
    "\n",
    "        df_forged = pd.merge(cur_genuie.assign(foo=1), cur_forg.assign(foo=1), on='foo', how='outer').drop('foo',1).assign(label=1)\n",
    "        df_forged['image1'] = df_forged['0_x'] + '/' + df_forged['1_x']\n",
    "        df_forged['image2'] = df_forged['0_y'] + '/' + df_forged['1_y']\n",
    "        \n",
    "        df_append = df_append.append(df_genuie[['image1', 'image2', 'label']])\n",
    "        df_append = df_append.append(df_forged[['image1', 'image2', 'label']])"
   ]
  },
  {
   "cell_type": "code",
   "execution_count": 9,
   "metadata": {},
   "outputs": [],
   "source": [
    "df_append.to_csv('/home/care1e55/study/DBO/project/clean/train_sign_constrative_data.csv', columns=['image1', 'image2', 'label'], index=False)"
   ]
  },
  {
   "cell_type": "code",
   "execution_count": null,
   "metadata": {},
   "outputs": [],
   "source": []
  },
  {
   "cell_type": "code",
   "execution_count": null,
   "metadata": {},
   "outputs": [],
   "source": []
  },
  {
   "cell_type": "code",
   "execution_count": null,
   "metadata": {},
   "outputs": [],
   "source": []
  },
  {
   "cell_type": "code",
   "execution_count": null,
   "metadata": {},
   "outputs": [],
   "source": [
    "                "
   ]
  },
  {
   "cell_type": "code",
   "execution_count": null,
   "metadata": {},
   "outputs": [],
   "source": []
  },
  {
   "cell_type": "code",
   "execution_count": null,
   "metadata": {},
   "outputs": [],
   "source": []
  }
 ]
}