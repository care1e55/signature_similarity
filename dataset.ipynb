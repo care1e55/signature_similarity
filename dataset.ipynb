{
 "metadata": {
  "language_info": {
   "codemirror_mode": {
    "name": "ipython",
    "version": 3
   },
   "file_extension": ".py",
   "mimetype": "text/x-python",
   "name": "python",
   "nbconvert_exporter": "python",
   "pygments_lexer": "ipython3",
   "version": "3.6.9-final"
  },
  "orig_nbformat": 2,
  "kernelspec": {
   "name": "python_defaultSpec_1598203795346",
   "display_name": "Python 3.6.9 64-bit"
  }
 },
 "nbformat": 4,
 "nbformat_minor": 2,
 "cells": [
  {
   "cell_type": "code",
   "execution_count": 1,
   "metadata": {},
   "outputs": [],
   "source": [
    "import os\n",
    "from os.path import join, getsize\n",
    "import shutil\n",
    "import pandas as pd\n",
    "import numpy as np\n",
    "import math"
   ]
  },
  {
   "cell_type": "code",
   "execution_count": 2,
   "metadata": {},
   "outputs": [],
   "source": [
    "# Make dataset csv's"
   ]
  },
  {
   "cell_type": "code",
   "execution_count": 3,
   "metadata": {
    "tags": []
   },
   "outputs": [],
   "source": [
    "base_path = '/storage/Study/DBO/project/data/combined_dataset/combined'"
   ]
  },
  {
   "cell_type": "code",
   "execution_count": 4,
   "metadata": {},
   "outputs": [],
   "source": [
    "dataframes = []\n",
    "files_list = []"
   ]
  },
  {
   "cell_type": "code",
   "execution_count": 5,
   "metadata": {},
   "outputs": [],
   "source": [
    "for root, dirs, files in os.walk(base_path):\n",
    "    if files:\n",
    "        dataframes.append(pd.DataFrame([(root.split(\"/\")[-1], file) for file in files ]))"
   ]
  },
  {
   "cell_type": "code",
   "execution_count": 6,
   "metadata": {
    "tags": []
   },
   "outputs": [
    {
     "output_type": "stream",
     "name": "stdout",
     "text": "452\n"
    },
    {
     "output_type": "execute_result",
     "data": {
      "text/plain": "       0                 1\n0  00001  NFI-00101001.png\n1  00001  NFI-00102001.png\n2  00001  NFI-00103001.png\n3  00001  NFI-00104001.png\n4  00001  NFI-00105001.png",
      "text/html": "<div>\n<style scoped>\n    .dataframe tbody tr th:only-of-type {\n        vertical-align: middle;\n    }\n\n    .dataframe tbody tr th {\n        vertical-align: top;\n    }\n\n    .dataframe thead th {\n        text-align: right;\n    }\n</style>\n<table border=\"1\" class=\"dataframe\">\n  <thead>\n    <tr style=\"text-align: right;\">\n      <th></th>\n      <th>0</th>\n      <th>1</th>\n    </tr>\n  </thead>\n  <tbody>\n    <tr>\n      <th>0</th>\n      <td>00001</td>\n      <td>NFI-00101001.png</td>\n    </tr>\n    <tr>\n      <th>1</th>\n      <td>00001</td>\n      <td>NFI-00102001.png</td>\n    </tr>\n    <tr>\n      <th>2</th>\n      <td>00001</td>\n      <td>NFI-00103001.png</td>\n    </tr>\n    <tr>\n      <th>3</th>\n      <td>00001</td>\n      <td>NFI-00104001.png</td>\n    </tr>\n    <tr>\n      <th>4</th>\n      <td>00001</td>\n      <td>NFI-00105001.png</td>\n    </tr>\n  </tbody>\n</table>\n</div>"
     },
     "metadata": {},
     "execution_count": 6
    }
   ],
   "source": [
    "print(len(dataframes))\n",
    "dataframes[0]"
   ]
  },
  {
   "cell_type": "code",
   "execution_count": 7,
   "metadata": {},
   "outputs": [],
   "source": [
    "df_append = pd.DataFrame()"
   ]
  },
  {
   "cell_type": "code",
   "execution_count": 33,
   "metadata": {
    "tags": []
   },
   "outputs": [],
   "source": [
    "# for i in range(352):\n",
    "for i in range(40, 60, 1):\n",
    "    if '_forg' not in dataframes[i][0][0]:\n",
    "        cur_genuie = dataframes[i]\n",
    "\n",
    "        for j, dataframe in enumerate(dataframes):\n",
    "            if dataframes[i][0][0]+\"_forg\" == dataframes[j][0][0]:\n",
    "                cur_forg = dataframes[j]\n",
    "                break \n",
    "\n",
    "        df_genuie = pd.merge(cur_genuie.assign(foo=1), cur_genuie.assign(foo=1), on='foo', how='outer').drop('foo',1).assign(label=0)\n",
    "        df_genuie['image1'] = df_genuie['0_x'] + '/' + df_genuie['1_x']\n",
    "        df_genuie['image2'] = df_genuie['0_y'] + '/' + df_genuie['1_y']\n",
    "        \n",
    "\n",
    "        df_forged = pd.merge(cur_genuie.assign(foo=1), cur_forg.assign(foo=1), on='foo', how='outer').drop('foo',1).assign(label=1)\n",
    "        df_forged['image1'] = df_forged['0_x'] + '/' + df_forged['1_x']\n",
    "        df_forged['image2'] = df_forged['0_y'] + '/' + df_forged['1_y']\n",
    "        \n",
    "        df_append = df_append.append(df_genuie[['image1', 'image2', 'label']])\n",
    "        df_append = df_append.append(df_forged[['image1', 'image2', 'label']])"
   ]
  },
  {
   "cell_type": "code",
   "execution_count": 34,
   "metadata": {},
   "outputs": [],
   "source": [
    "df_append.to_csv('data/combined_dataset/train_data.csv', columns=['image1', 'image2', 'label'], index=False)"
   ]
  },
  {
   "cell_type": "code",
   "execution_count": 11,
   "metadata": {},
   "outputs": [],
   "source": [
    "df_append = pd.DataFrame()"
   ]
  },
  {
   "cell_type": "code",
   "execution_count": 12,
   "metadata": {},
   "outputs": [],
   "source": [
    "for i in range(352, 452, 1):\n",
    "# for i in range(352, 372, 1):\n",
    "# for i in range(40, 60, 1):\n",
    "    if '_forg' not in dataframes[i][0][0]:\n",
    "        cur_genuie = dataframes[i]\n",
    "\n",
    "        for j, dataframe in enumerate(dataframes):\n",
    "            if dataframes[i][0][0]+\"_forg\" == dataframes[j][0][0]:\n",
    "                cur_forg = dataframes[j]\n",
    "                break \n",
    "\n",
    "        df_genuie = pd.merge(cur_genuie.assign(foo=1), cur_genuie.assign(foo=1), on='foo', how='outer').drop('foo',1).assign(label=0)\n",
    "        df_genuie['image1'] = df_genuie['0_x'] + '/' + df_genuie['1_x']\n",
    "        df_genuie['image2'] = df_genuie['0_y'] + '/' + df_genuie['1_y']\n",
    "        \n",
    "\n",
    "        df_forged = pd.merge(cur_genuie.assign(foo=1), cur_forg.assign(foo=1), on='foo', how='outer').drop('foo',1).assign(label=1)\n",
    "        df_forged['image1'] = df_forged['0_x'] + '/' + df_forged['1_x']\n",
    "        df_forged['image2'] = df_forged['0_y'] + '/' + df_forged['1_y']\n",
    "        \n",
    "        df_append = df_append.append(df_genuie[['image1', 'image2', 'label']])\n",
    "        df_append = df_append.append(df_forged[['image1', 'image2', 'label']])\n"
   ]
  },
  {
   "cell_type": "code",
   "execution_count": 13,
   "metadata": {},
   "outputs": [],
   "source": [
    "df_append.to_csv('data/combined_dataset/test_data.csv', columns=['image1', 'image2', 'label'], index=False)"
   ]
  },
  {
   "cell_type": "code",
   "execution_count": null,
   "metadata": {},
   "outputs": [],
   "source": []
  },
  {
   "cell_type": "code",
   "execution_count": null,
   "metadata": {},
   "outputs": [],
   "source": []
  },
  {
   "cell_type": "code",
   "execution_count": null,
   "metadata": {},
   "outputs": [],
   "source": [
    "# triplet"
   ]
  },
  {
   "cell_type": "code",
   "execution_count": null,
   "metadata": {},
   "outputs": [],
   "source": [
    "df_append = pd.DataFrame()"
   ]
  },
  {
   "cell_type": "code",
   "execution_count": 53,
   "metadata": {
    "tags": []
   },
   "outputs": [
    {
     "output_type": "stream",
     "name": "stdout",
     "text": "0    00001_forg/NFI-00301001.png\n1    00001_forg/NFI-00302001.png\n2    00001_forg/NFI-00303001.png\n3    00001_forg/NFI-00304001.png\n4    00001_forg/NFI-00305001.png\nName: image_forg, dtype: object\n                     image1                  image2  \\\n0    00001/NFI-00101001.png  00001/NFI-00101001.png   \n1    00001/NFI-00101001.png  00001/NFI-00101001.png   \n2    00001/NFI-00101001.png  00001/NFI-00101001.png   \n3    00001/NFI-00101001.png  00001/NFI-00101001.png   \n4    00001/NFI-00101001.png  00001/NFI-00101001.png   \n..                      ...                     ...   \n120  00001/NFI-00105001.png  00001/NFI-00105001.png   \n121  00001/NFI-00105001.png  00001/NFI-00105001.png   \n122  00001/NFI-00105001.png  00001/NFI-00105001.png   \n123  00001/NFI-00105001.png  00001/NFI-00105001.png   \n124  00001/NFI-00105001.png  00001/NFI-00105001.png   \n\n                      image_forg  \n0    00001_forg/NFI-00301001.png  \n1    00001_forg/NFI-00302001.png  \n2    00001_forg/NFI-00303001.png  \n3    00001_forg/NFI-00304001.png  \n4    00001_forg/NFI-00305001.png  \n..                           ...  \n120  00001_forg/NFI-00301001.png  \n121  00001_forg/NFI-00302001.png  \n122  00001_forg/NFI-00303001.png  \n123  00001_forg/NFI-00304001.png  \n124  00001_forg/NFI-00305001.png  \n\n[125 rows x 3 columns]\n                     image1                  image2  \\\n0    00001/NFI-00101001.png  00001/NFI-00101001.png   \n1    00001/NFI-00101001.png  00001/NFI-00101001.png   \n2    00001/NFI-00101001.png  00001/NFI-00101001.png   \n3    00001/NFI-00101001.png  00001/NFI-00101001.png   \n4    00001/NFI-00101001.png  00001/NFI-00101001.png   \n..                      ...                     ...   \n120  00001/NFI-00105001.png  00001/NFI-00105001.png   \n121  00001/NFI-00105001.png  00001/NFI-00105001.png   \n122  00001/NFI-00105001.png  00001/NFI-00105001.png   \n123  00001/NFI-00105001.png  00001/NFI-00105001.png   \n124  00001/NFI-00105001.png  00001/NFI-00105001.png   \n\n                      image_forg  \n0    00001_forg/NFI-00301001.png  \n1    00001_forg/NFI-00302001.png  \n2    00001_forg/NFI-00303001.png  \n3    00001_forg/NFI-00304001.png  \n4    00001_forg/NFI-00305001.png  \n..                           ...  \n120  00001_forg/NFI-00301001.png  \n121  00001_forg/NFI-00302001.png  \n122  00001_forg/NFI-00303001.png  \n123  00001_forg/NFI-00304001.png  \n124  00001_forg/NFI-00305001.png  \n\n[125 rows x 3 columns]\n                     image1                  image2  \\\n5    00001/NFI-00101001.png  00001/NFI-00102001.png   \n6    00001/NFI-00101001.png  00001/NFI-00102001.png   \n7    00001/NFI-00101001.png  00001/NFI-00102001.png   \n8    00001/NFI-00101001.png  00001/NFI-00102001.png   \n9    00001/NFI-00101001.png  00001/NFI-00102001.png   \n..                      ...                     ...   \n115  00001/NFI-00105001.png  00001/NFI-00104001.png   \n116  00001/NFI-00105001.png  00001/NFI-00104001.png   \n117  00001/NFI-00105001.png  00001/NFI-00104001.png   \n118  00001/NFI-00105001.png  00001/NFI-00104001.png   \n119  00001/NFI-00105001.png  00001/NFI-00104001.png   \n\n                      image_forg  \n5    00001_forg/NFI-00301001.png  \n6    00001_forg/NFI-00302001.png  \n7    00001_forg/NFI-00303001.png  \n8    00001_forg/NFI-00304001.png  \n9    00001_forg/NFI-00305001.png  \n..                           ...  \n115  00001_forg/NFI-00301001.png  \n116  00001_forg/NFI-00302001.png  \n117  00001_forg/NFI-00303001.png  \n118  00001_forg/NFI-00304001.png  \n119  00001_forg/NFI-00305001.png  \n\n[100 rows x 3 columns]\n"
    }
   ],
   "source": [
    "# for i in range(352):\n",
    "for i in range(0, 10):\n",
    "    if '_forg' not in dataframes[i][0][0]:\n",
    "        cur_genuie = dataframes[i]\n",
    "\n",
    "        for j, dataframe in enumerate(dataframes):\n",
    "            if dataframes[i][0][0]+\"_forg\" == dataframes[j][0][0]:\n",
    "                cur_forg = dataframes[j]\n",
    "                break \n",
    "\n",
    "        df_genuie = pd.merge(cur_genuie.assign(foo=1), cur_genuie.assign(foo=1), on='foo', how='outer').drop('foo',1).assign(label=0)\n",
    "        df_genuie['image1'] = df_genuie['0_x'] + '/' + df_genuie['1_x']\n",
    "        df_genuie['image2'] = df_genuie['0_y'] + '/' + df_genuie['1_y']\n",
    "        \n",
    "        cur_forg['image_forg'] = cur_forg[0] + '/' + cur_forg[1]\n",
    "\n",
    "        df_triplet = pd.merge(df_genuie[['image1', 'image2']].assign(foo=1), cur_forg[['image_forg']].assign(foo=1), on='foo', how='outer').drop('foo',1)\n",
    "\n",
    "        df_triplet = df_triplet[df_triplet['image1'] != df_triplet['image2']]\n",
    "\n",
    "        df_triplet.columns = ['anchor', 'positive', 'negative']\n",
    "        \n",
    "        df_append = df_append.append(df_triplet)"
   ]
  },
  {
   "cell_type": "code",
   "execution_count": 28,
   "metadata": {},
   "outputs": [
    {
     "output_type": "execute_result",
     "data": {
      "text/plain": "       0                 1\n0  00001  NFI-00101001.png\n1  00001  NFI-00102001.png\n2  00001  NFI-00103001.png\n3  00001  NFI-00104001.png\n4  00001  NFI-00105001.png",
      "text/html": "<div>\n<style scoped>\n    .dataframe tbody tr th:only-of-type {\n        vertical-align: middle;\n    }\n\n    .dataframe tbody tr th {\n        vertical-align: top;\n    }\n\n    .dataframe thead th {\n        text-align: right;\n    }\n</style>\n<table border=\"1\" class=\"dataframe\">\n  <thead>\n    <tr style=\"text-align: right;\">\n      <th></th>\n      <th>0</th>\n      <th>1</th>\n    </tr>\n  </thead>\n  <tbody>\n    <tr>\n      <th>0</th>\n      <td>00001</td>\n      <td>NFI-00101001.png</td>\n    </tr>\n    <tr>\n      <th>1</th>\n      <td>00001</td>\n      <td>NFI-00102001.png</td>\n    </tr>\n    <tr>\n      <th>2</th>\n      <td>00001</td>\n      <td>NFI-00103001.png</td>\n    </tr>\n    <tr>\n      <th>3</th>\n      <td>00001</td>\n      <td>NFI-00104001.png</td>\n    </tr>\n    <tr>\n      <th>4</th>\n      <td>00001</td>\n      <td>NFI-00105001.png</td>\n    </tr>\n  </tbody>\n</table>\n</div>"
     },
     "metadata": {},
     "execution_count": 28
    }
   ],
   "source": [
    "dataframes[0]"
   ]
  },
  {
   "cell_type": "code",
   "execution_count": null,
   "metadata": {},
   "outputs": [],
   "source": []
  },
  {
   "cell_type": "code",
   "execution_count": null,
   "metadata": {},
   "outputs": [],
   "source": []
  },
  {
   "cell_type": "code",
   "execution_count": null,
   "metadata": {},
   "outputs": [],
   "source": []
  },
  {
   "cell_type": "code",
   "execution_count": null,
   "metadata": {},
   "outputs": [],
   "source": []
  },
  {
   "cell_type": "code",
   "execution_count": null,
   "metadata": {},
   "outputs": [],
   "source": []
  },
  {
   "cell_type": "code",
   "execution_count": null,
   "metadata": {},
   "outputs": [],
   "source": []
  },
  {
   "cell_type": "code",
   "execution_count": null,
   "metadata": {},
   "outputs": [],
   "source": []
  },
  {
   "cell_type": "code",
   "execution_count": null,
   "metadata": {},
   "outputs": [],
   "source": []
  },
  {
   "cell_type": "code",
   "execution_count": null,
   "metadata": {},
   "outputs": [],
   "source": []
  },
  {
   "cell_type": "code",
   "execution_count": null,
   "metadata": {},
   "outputs": [],
   "source": []
  },
  {
   "cell_type": "code",
   "execution_count": null,
   "metadata": {},
   "outputs": [],
   "source": []
  },
  {
   "cell_type": "code",
   "execution_count": 199,
   "metadata": {
    "tags": []
   },
   "outputs": [],
   "source": [
    "for i,_ in enumerate(dataframes):\n",
    "    if i%2 == 0: #genuie\n",
    "        df_genuie = pd.merge(dataframes[i].assign(foo=1), dataframes[i].assign(foo=1), on='foo', how='outer').drop('foo',1).assign(flag=1)\n",
    "        df_genuie['concat_x'] = df_genuie['0_x'] + '/' + df_genuie['1_x']\n",
    "        df_genuie['concat_y'] = df_genuie['0_y'] + '/' + df_genuie['1_y']\n",
    "        \n",
    "\n",
    "        df_forged = pd.merge(dataframes[i].assign(foo=1), dataframes[i+1].assign(foo=1), on='foo', how='outer').drop('foo',1).assign(flag=0)\n",
    "        df_forged['concat_x'] = df_forged['0_x'] + '/' + df_forged['1_x']\n",
    "        df_forged['concat_y'] = df_forged['0_y'] + '/' + df_forged['1_y']\n",
    "        \n",
    "        df_append = df_append.append(df_genuie[['concat_x', 'concat_y', 'flag']])\n",
    "        df_append = df_append.append(df_forged[['concat_x', 'concat_y', 'flag']])\n",
    "\n",
    "        # break"
   ]
  },
  {
   "cell_type": "code",
   "execution_count": 200,
   "metadata": {},
   "outputs": [
    {
     "output_type": "execute_result",
     "data": {
      "text/plain": "                     image1                  image2  label\n0    00001/NFI-00101001.png  00001/NFI-00101001.png    1.0\n1    00001/NFI-00101001.png  00001/NFI-00102001.png    1.0\n2    00001/NFI-00101001.png  00001/NFI-00103001.png    1.0\n3    00001/NFI-00101001.png  00001/NFI-00104001.png    1.0\n4    00001/NFI-00101001.png  00001/NFI-00105001.png    1.0\n..                      ...                     ...    ...\n770                     NaN                     NaN    NaN\n771                     NaN                     NaN    NaN\n772                     NaN                     NaN    NaN\n773                     NaN                     NaN    NaN\n774                     NaN                     NaN    NaN\n\n[267240 rows x 3 columns]",
      "text/html": "<div>\n<style scoped>\n    .dataframe tbody tr th:only-of-type {\n        vertical-align: middle;\n    }\n\n    .dataframe tbody tr th {\n        vertical-align: top;\n    }\n\n    .dataframe thead th {\n        text-align: right;\n    }\n</style>\n<table border=\"1\" class=\"dataframe\">\n  <thead>\n    <tr style=\"text-align: right;\">\n      <th></th>\n      <th>image1</th>\n      <th>image2</th>\n      <th>label</th>\n    </tr>\n  </thead>\n  <tbody>\n    <tr>\n      <th>0</th>\n      <td>00001/NFI-00101001.png</td>\n      <td>00001/NFI-00101001.png</td>\n      <td>1.0</td>\n    </tr>\n    <tr>\n      <th>1</th>\n      <td>00001/NFI-00101001.png</td>\n      <td>00001/NFI-00102001.png</td>\n      <td>1.0</td>\n    </tr>\n    <tr>\n      <th>2</th>\n      <td>00001/NFI-00101001.png</td>\n      <td>00001/NFI-00103001.png</td>\n      <td>1.0</td>\n    </tr>\n    <tr>\n      <th>3</th>\n      <td>00001/NFI-00101001.png</td>\n      <td>00001/NFI-00104001.png</td>\n      <td>1.0</td>\n    </tr>\n    <tr>\n      <th>4</th>\n      <td>00001/NFI-00101001.png</td>\n      <td>00001/NFI-00105001.png</td>\n      <td>1.0</td>\n    </tr>\n    <tr>\n      <th>...</th>\n      <td>...</td>\n      <td>...</td>\n      <td>...</td>\n    </tr>\n    <tr>\n      <th>770</th>\n      <td>NaN</td>\n      <td>NaN</td>\n      <td>NaN</td>\n    </tr>\n    <tr>\n      <th>771</th>\n      <td>NaN</td>\n      <td>NaN</td>\n      <td>NaN</td>\n    </tr>\n    <tr>\n      <th>772</th>\n      <td>NaN</td>\n      <td>NaN</td>\n      <td>NaN</td>\n    </tr>\n    <tr>\n      <th>773</th>\n      <td>NaN</td>\n      <td>NaN</td>\n      <td>NaN</td>\n    </tr>\n    <tr>\n      <th>774</th>\n      <td>NaN</td>\n      <td>NaN</td>\n      <td>NaN</td>\n    </tr>\n  </tbody>\n</table>\n<p>267240 rows × 3 columns</p>\n</div>"
     },
     "metadata": {},
     "execution_count": 200
    }
   ],
   "source": [
    "df_append[['image1', 'image2', 'label']]"
   ]
  },
  {
   "cell_type": "code",
   "execution_count": 166,
   "metadata": {},
   "outputs": [],
   "source": [
    "from sklearn.model_selection import train_test_split"
   ]
  },
  {
   "cell_type": "code",
   "execution_count": null,
   "metadata": {},
   "outputs": [],
   "source": [
    "X_train, X_test, y_train, y_test = train_test_split(X, y, test_size=0.33, random_state=42)"
   ]
  },
  {
   "cell_type": "code",
   "execution_count": null,
   "metadata": {},
   "outputs": [],
   "source": []
  },
  {
   "cell_type": "code",
   "execution_count": 172,
   "metadata": {
    "tags": []
   },
   "outputs": [],
   "source": [
    "df_append.to_csv('data/combined_dataset/train_data.csv')"
   ]
  },
  {
   "cell_type": "code",
   "execution_count": 148,
   "metadata": {
    "tags": []
   },
   "outputs": [],
   "source": [
    "# print(df_genuie[['concat_x', 'concat_y', 'flag']])\n",
    "# print(df_forged[['concat_x', 'concat_y', 'flag']])        "
   ]
  },
  {
   "cell_type": "code",
   "execution_count": null,
   "metadata": {},
   "outputs": [],
   "source": [
    "df_genuie[['concat_x', 'concat_y', 'flag']] df_forged[['concat_x', 'concat_y', 'flag']]"
   ]
  },
  {
   "cell_type": "code",
   "execution_count": 86,
   "metadata": {},
   "outputs": [
    {
     "output_type": "execute_result",
     "data": {
      "text/plain": "                 1_x               1_y\n0   NFI-00101001.png  NFI-00101001.png\n1   NFI-00101001.png  NFI-00102001.png\n2   NFI-00101001.png  NFI-00103001.png\n3   NFI-00101001.png  NFI-00104001.png\n4   NFI-00101001.png  NFI-00105001.png\n5   NFI-00102001.png  NFI-00101001.png\n6   NFI-00102001.png  NFI-00102001.png\n7   NFI-00102001.png  NFI-00103001.png\n8   NFI-00102001.png  NFI-00104001.png\n9   NFI-00102001.png  NFI-00105001.png\n10  NFI-00103001.png  NFI-00101001.png\n11  NFI-00103001.png  NFI-00102001.png\n12  NFI-00103001.png  NFI-00103001.png\n13  NFI-00103001.png  NFI-00104001.png\n14  NFI-00103001.png  NFI-00105001.png\n15  NFI-00104001.png  NFI-00101001.png\n16  NFI-00104001.png  NFI-00102001.png\n17  NFI-00104001.png  NFI-00103001.png\n18  NFI-00104001.png  NFI-00104001.png\n19  NFI-00104001.png  NFI-00105001.png\n20  NFI-00105001.png  NFI-00101001.png\n21  NFI-00105001.png  NFI-00102001.png\n22  NFI-00105001.png  NFI-00103001.png\n23  NFI-00105001.png  NFI-00104001.png\n24  NFI-00105001.png  NFI-00105001.png",
      "text/html": "<div>\n<style scoped>\n    .dataframe tbody tr th:only-of-type {\n        vertical-align: middle;\n    }\n\n    .dataframe tbody tr th {\n        vertical-align: top;\n    }\n\n    .dataframe thead th {\n        text-align: right;\n    }\n</style>\n<table border=\"1\" class=\"dataframe\">\n  <thead>\n    <tr style=\"text-align: right;\">\n      <th></th>\n      <th>1_x</th>\n      <th>1_y</th>\n    </tr>\n  </thead>\n  <tbody>\n    <tr>\n      <th>0</th>\n      <td>NFI-00101001.png</td>\n      <td>NFI-00101001.png</td>\n    </tr>\n    <tr>\n      <th>1</th>\n      <td>NFI-00101001.png</td>\n      <td>NFI-00102001.png</td>\n    </tr>\n    <tr>\n      <th>2</th>\n      <td>NFI-00101001.png</td>\n      <td>NFI-00103001.png</td>\n    </tr>\n    <tr>\n      <th>3</th>\n      <td>NFI-00101001.png</td>\n      <td>NFI-00104001.png</td>\n    </tr>\n    <tr>\n      <th>4</th>\n      <td>NFI-00101001.png</td>\n      <td>NFI-00105001.png</td>\n    </tr>\n    <tr>\n      <th>5</th>\n      <td>NFI-00102001.png</td>\n      <td>NFI-00101001.png</td>\n    </tr>\n    <tr>\n      <th>6</th>\n      <td>NFI-00102001.png</td>\n      <td>NFI-00102001.png</td>\n    </tr>\n    <tr>\n      <th>7</th>\n      <td>NFI-00102001.png</td>\n      <td>NFI-00103001.png</td>\n    </tr>\n    <tr>\n      <th>8</th>\n      <td>NFI-00102001.png</td>\n      <td>NFI-00104001.png</td>\n    </tr>\n    <tr>\n      <th>9</th>\n      <td>NFI-00102001.png</td>\n      <td>NFI-00105001.png</td>\n    </tr>\n    <tr>\n      <th>10</th>\n      <td>NFI-00103001.png</td>\n      <td>NFI-00101001.png</td>\n    </tr>\n    <tr>\n      <th>11</th>\n      <td>NFI-00103001.png</td>\n      <td>NFI-00102001.png</td>\n    </tr>\n    <tr>\n      <th>12</th>\n      <td>NFI-00103001.png</td>\n      <td>NFI-00103001.png</td>\n    </tr>\n    <tr>\n      <th>13</th>\n      <td>NFI-00103001.png</td>\n      <td>NFI-00104001.png</td>\n    </tr>\n    <tr>\n      <th>14</th>\n      <td>NFI-00103001.png</td>\n      <td>NFI-00105001.png</td>\n    </tr>\n    <tr>\n      <th>15</th>\n      <td>NFI-00104001.png</td>\n      <td>NFI-00101001.png</td>\n    </tr>\n    <tr>\n      <th>16</th>\n      <td>NFI-00104001.png</td>\n      <td>NFI-00102001.png</td>\n    </tr>\n    <tr>\n      <th>17</th>\n      <td>NFI-00104001.png</td>\n      <td>NFI-00103001.png</td>\n    </tr>\n    <tr>\n      <th>18</th>\n      <td>NFI-00104001.png</td>\n      <td>NFI-00104001.png</td>\n    </tr>\n    <tr>\n      <th>19</th>\n      <td>NFI-00104001.png</td>\n      <td>NFI-00105001.png</td>\n    </tr>\n    <tr>\n      <th>20</th>\n      <td>NFI-00105001.png</td>\n      <td>NFI-00101001.png</td>\n    </tr>\n    <tr>\n      <th>21</th>\n      <td>NFI-00105001.png</td>\n      <td>NFI-00102001.png</td>\n    </tr>\n    <tr>\n      <th>22</th>\n      <td>NFI-00105001.png</td>\n      <td>NFI-00103001.png</td>\n    </tr>\n    <tr>\n      <th>23</th>\n      <td>NFI-00105001.png</td>\n      <td>NFI-00104001.png</td>\n    </tr>\n    <tr>\n      <th>24</th>\n      <td>NFI-00105001.png</td>\n      <td>NFI-00105001.png</td>\n    </tr>\n  </tbody>\n</table>\n</div>"
     },
     "metadata": {},
     "execution_count": 86
    }
   ],
   "source": [
    "pd.merge(dataframes[0].assign(foo=1), dataframes[0].assign(foo=1), on='foo', how='outer').drop('foo',1)[['1_x', '1_y']]"
   ]
  },
  {
   "cell_type": "code",
   "execution_count": 79,
   "metadata": {},
   "outputs": [
    {
     "output_type": "execute_result",
     "data": {
      "text/plain": "            0               1_x               1_y\n0       00001  NFI-00101001.png               NaN\n1       00001  NFI-00102001.png               NaN\n2       00001  NFI-00103001.png               NaN\n3       00001  NFI-00104001.png               NaN\n4       00001  NFI-00105001.png               NaN\n5  00001_forg               NaN  NFI-00301001.png\n6  00001_forg               NaN  NFI-00302001.png\n7  00001_forg               NaN  NFI-00303001.png\n8  00001_forg               NaN  NFI-00304001.png\n9  00001_forg               NaN  NFI-00305001.png",
      "text/html": "<div>\n<style scoped>\n    .dataframe tbody tr th:only-of-type {\n        vertical-align: middle;\n    }\n\n    .dataframe tbody tr th {\n        vertical-align: top;\n    }\n\n    .dataframe thead th {\n        text-align: right;\n    }\n</style>\n<table border=\"1\" class=\"dataframe\">\n  <thead>\n    <tr style=\"text-align: right;\">\n      <th></th>\n      <th>0</th>\n      <th>1_x</th>\n      <th>1_y</th>\n    </tr>\n  </thead>\n  <tbody>\n    <tr>\n      <th>0</th>\n      <td>00001</td>\n      <td>NFI-00101001.png</td>\n      <td>NaN</td>\n    </tr>\n    <tr>\n      <th>1</th>\n      <td>00001</td>\n      <td>NFI-00102001.png</td>\n      <td>NaN</td>\n    </tr>\n    <tr>\n      <th>2</th>\n      <td>00001</td>\n      <td>NFI-00103001.png</td>\n      <td>NaN</td>\n    </tr>\n    <tr>\n      <th>3</th>\n      <td>00001</td>\n      <td>NFI-00104001.png</td>\n      <td>NaN</td>\n    </tr>\n    <tr>\n      <th>4</th>\n      <td>00001</td>\n      <td>NFI-00105001.png</td>\n      <td>NaN</td>\n    </tr>\n    <tr>\n      <th>5</th>\n      <td>00001_forg</td>\n      <td>NaN</td>\n      <td>NFI-00301001.png</td>\n    </tr>\n    <tr>\n      <th>6</th>\n      <td>00001_forg</td>\n      <td>NaN</td>\n      <td>NFI-00302001.png</td>\n    </tr>\n    <tr>\n      <th>7</th>\n      <td>00001_forg</td>\n      <td>NaN</td>\n      <td>NFI-00303001.png</td>\n    </tr>\n    <tr>\n      <th>8</th>\n      <td>00001_forg</td>\n      <td>NaN</td>\n      <td>NFI-00304001.png</td>\n    </tr>\n    <tr>\n      <th>9</th>\n      <td>00001_forg</td>\n      <td>NaN</td>\n      <td>NFI-00305001.png</td>\n    </tr>\n  </tbody>\n</table>\n</div>"
     },
     "metadata": {},
     "execution_count": 79
    }
   ],
   "source": [
    "pd.merge(dataframes[0], dataframes[1], on=0, how='outer')"
   ]
  },
  {
   "cell_type": "code",
   "execution_count": 40,
   "metadata": {},
   "outputs": [],
   "source": [
    "df = pd.DataFrame(files_list_flatten)"
   ]
  },
  {
   "cell_type": "code",
   "execution_count": 41,
   "metadata": {},
   "outputs": [
    {
     "output_type": "execute_result",
     "data": {
      "text/plain": "                                                      0  \\\n0     /storage/Study/DBO/project/data/combined_datas...   \n1     /storage/Study/DBO/project/data/combined_datas...   \n2     /storage/Study/DBO/project/data/combined_datas...   \n3     /storage/Study/DBO/project/data/combined_datas...   \n4     /storage/Study/DBO/project/data/combined_datas...   \n...                                                 ...   \n8769  /storage/Study/DBO/project/data/combined_datas...   \n8770  /storage/Study/DBO/project/data/combined_datas...   \n8771  /storage/Study/DBO/project/data/combined_datas...   \n8772  /storage/Study/DBO/project/data/combined_datas...   \n8773  /storage/Study/DBO/project/data/combined_datas...   \n\n                              1  \n0              NFI-00101001.png  \n1              NFI-00102001.png  \n2              NFI-00103001.png  \n3              NFI-00104001.png  \n4              NFI-00105001.png  \n...                         ...  \n8769  NISDCC-051_012_001_6g.PNG  \n8770  NISDCC-051_012_002_6g.PNG  \n8771  NISDCC-051_012_003_6g.PNG  \n8772  NISDCC-051_012_004_6g.PNG  \n8773  NISDCC-051_012_005_6g.PNG  \n\n[8774 rows x 2 columns]",
      "text/html": "<div>\n<style scoped>\n    .dataframe tbody tr th:only-of-type {\n        vertical-align: middle;\n    }\n\n    .dataframe tbody tr th {\n        vertical-align: top;\n    }\n\n    .dataframe thead th {\n        text-align: right;\n    }\n</style>\n<table border=\"1\" class=\"dataframe\">\n  <thead>\n    <tr style=\"text-align: right;\">\n      <th></th>\n      <th>0</th>\n      <th>1</th>\n    </tr>\n  </thead>\n  <tbody>\n    <tr>\n      <th>0</th>\n      <td>/storage/Study/DBO/project/data/combined_datas...</td>\n      <td>NFI-00101001.png</td>\n    </tr>\n    <tr>\n      <th>1</th>\n      <td>/storage/Study/DBO/project/data/combined_datas...</td>\n      <td>NFI-00102001.png</td>\n    </tr>\n    <tr>\n      <th>2</th>\n      <td>/storage/Study/DBO/project/data/combined_datas...</td>\n      <td>NFI-00103001.png</td>\n    </tr>\n    <tr>\n      <th>3</th>\n      <td>/storage/Study/DBO/project/data/combined_datas...</td>\n      <td>NFI-00104001.png</td>\n    </tr>\n    <tr>\n      <th>4</th>\n      <td>/storage/Study/DBO/project/data/combined_datas...</td>\n      <td>NFI-00105001.png</td>\n    </tr>\n    <tr>\n      <th>...</th>\n      <td>...</td>\n      <td>...</td>\n    </tr>\n    <tr>\n      <th>8769</th>\n      <td>/storage/Study/DBO/project/data/combined_datas...</td>\n      <td>NISDCC-051_012_001_6g.PNG</td>\n    </tr>\n    <tr>\n      <th>8770</th>\n      <td>/storage/Study/DBO/project/data/combined_datas...</td>\n      <td>NISDCC-051_012_002_6g.PNG</td>\n    </tr>\n    <tr>\n      <th>8771</th>\n      <td>/storage/Study/DBO/project/data/combined_datas...</td>\n      <td>NISDCC-051_012_003_6g.PNG</td>\n    </tr>\n    <tr>\n      <th>8772</th>\n      <td>/storage/Study/DBO/project/data/combined_datas...</td>\n      <td>NISDCC-051_012_004_6g.PNG</td>\n    </tr>\n    <tr>\n      <th>8773</th>\n      <td>/storage/Study/DBO/project/data/combined_datas...</td>\n      <td>NISDCC-051_012_005_6g.PNG</td>\n    </tr>\n  </tbody>\n</table>\n<p>8774 rows × 2 columns</p>\n</div>"
     },
     "metadata": {},
     "execution_count": 41
    }
   ],
   "source": [
    "df"
   ]
  },
  {
   "cell_type": "code",
   "execution_count": null,
   "metadata": {},
   "outputs": [],
   "source": []
  },
  {
   "cell_type": "code",
   "execution_count": null,
   "metadata": {},
   "outputs": [],
   "source": []
  },
  {
   "cell_type": "code",
   "execution_count": null,
   "metadata": {},
   "outputs": [],
   "source": []
  },
  {
   "cell_type": "code",
   "execution_count": null,
   "metadata": {},
   "outputs": [],
   "source": []
  },
  {
   "cell_type": "code",
   "execution_count": null,
   "metadata": {},
   "outputs": [],
   "source": []
  },
  {
   "cell_type": "code",
   "execution_count": 61,
   "metadata": {},
   "outputs": [],
   "source": [
    "# Preprocess and combine datasets"
   ]
  },
  {
   "cell_type": "code",
   "execution_count": 23,
   "metadata": {},
   "outputs": [],
   "source": [
    "base_path = 'data/combined_dataset/TrainingSet/'\n",
    "forged_dir = os.path.join(base_path,'forged')\n",
    "genuine_dir = os.path.join(base_path,'genuine')"
   ]
  },
  {
   "cell_type": "code",
   "execution_count": 21,
   "metadata": {
    "tags": []
   },
   "outputs": [],
   "source": [
    "# walk forged\n",
    "for root, dirs, files in os.walk(forged_dir):\n",
    "    if dirs:\n",
    "        for i in dirs:\n",
    "            os.rename(os.path.join(forged_dir,i), os.path.join(forged_dir,i+'_forg'))"
   ]
  },
  {
   "cell_type": "code",
   "execution_count": 24,
   "metadata": {},
   "outputs": [],
   "source": [
    "# # walk forged\n",
    "# for root, dirs, files in os.walk(genuine_dir):\n",
    "#     if dirs:\n",
    "#         for i in dirs:\n",
    "#             os.rename(os.path.join(genuine_dir,i), os.path.join(genuine_dir,i+'_forg'))"
   ]
  },
  {
   "cell_type": "code",
   "execution_count": null,
   "metadata": {},
   "outputs": [],
   "source": []
  },
  {
   "cell_type": "code",
   "execution_count": null,
   "metadata": {},
   "outputs": [],
   "source": []
  },
  {
   "cell_type": "code",
   "execution_count": null,
   "metadata": {},
   "outputs": [],
   "source": []
  },
  {
   "cell_type": "code",
   "execution_count": 47,
   "metadata": {},
   "outputs": [],
   "source": [
    "base_path = '/storage/Study/DBO/project/data/combined_dataset/Dutch/TrainingSet/'\n",
    "forged_dir = os.path.join(base_path,'forged')\n",
    "genuine_dir = os.path.join(base_path,'genuine')\n",
    "combined_dir = os.path.join(base_path,'combined')"
   ]
  },
  {
   "cell_type": "code",
   "execution_count": 51,
   "metadata": {
    "tags": []
   },
   "outputs": [],
   "source": [
    "for root, dirs, files in os.walk(forged_dir):\n",
    "    for i in files:\n",
    "        filepath = os.path.join(forged_dir, i)\n",
    "        try:\n",
    "            os.mkdir(os.path.join(combined_dir, i.split('_')[0][-3:]+'_forg'))\n",
    "        except:\n",
    "            pass"
   ]
  },
  {
   "cell_type": "code",
   "execution_count": 52,
   "metadata": {},
   "outputs": [],
   "source": [
    "for root, dirs, files in os.walk(forged_dir):\n",
    "    for i in files:\n",
    "        filepath = os.path.join(forged_dir, i)\n",
    "        try:\n",
    "            os.mkdir(os.path.join(combined_dir, i.split('_')[0][-3:]))\n",
    "        except:\n",
    "            pass"
   ]
  },
  {
   "cell_type": "code",
   "execution_count": 63,
   "metadata": {
    "tags": []
   },
   "outputs": [],
   "source": [
    "for root, dirs, files in os.walk(forged_dir):\n",
    "    for i in files:\n",
    "        filepath = os.path.join(forged_dir, i)\n",
    "        shutil.move(filepath, os.path.join(combined_dir, i.split('_')[0][-3:]+'_forg', i))"
   ]
  },
  {
   "cell_type": "code",
   "execution_count": 67,
   "metadata": {
    "tags": []
   },
   "outputs": [],
   "source": [
    "for root, dirs, files in os.walk(genuine_dir):\n",
    "    for i in files:\n",
    "        filepath = os.path.join(genuine_dir, i)\n",
    "        # print(os.path.join(combined_dir, i.split('_')[0][-3:], i))\n",
    "        shutil.move(filepath, os.path.join(combined_dir, i.split('_')[0][-3:], i))"
   ]
  },
  {
   "cell_type": "code",
   "execution_count": null,
   "metadata": {},
   "outputs": [],
   "source": []
  },
  {
   "cell_type": "code",
   "execution_count": null,
   "metadata": {},
   "outputs": [],
   "source": []
  },
  {
   "cell_type": "code",
   "execution_count": null,
   "metadata": {},
   "outputs": [],
   "source": []
  },
  {
   "cell_type": "code",
   "execution_count": null,
   "metadata": {},
   "outputs": [],
   "source": []
  },
  {
   "cell_type": "code",
   "execution_count": 68,
   "metadata": {},
   "outputs": [],
   "source": [
    "base_path = '/storage/Study/DBO/project/data/combined_dataset/sample_signature/sample_Signature/'\n",
    "forged_dir = os.path.join(base_path,'forged')\n",
    "genuine_dir = os.path.join(base_path,'genuine')\n",
    "combined_dir = os.path.join(base_path,'combined')"
   ]
  },
  {
   "cell_type": "code",
   "execution_count": 85,
   "metadata": {
    "tags": [
     "outputPrepend"
    ]
   },
   "outputs": [
    {
     "output_type": "stream",
     "name": "stdout",
     "text": "torage/Study/DBO/project/data/combined_dataset/sample_signature/sample_Signature/combined/00009_forg\n/storage/Study/DBO/project/data/combined_dataset/sample_signature/sample_Signature/combined/00018\n/storage/Study/DBO/project/data/combined_dataset/sample_signature/sample_Signature/combined/00018_forg\n/storage/Study/DBO/project/data/combined_dataset/sample_signature/sample_Signature/combined/00001\n/storage/Study/DBO/project/data/combined_dataset/sample_signature/sample_Signature/combined/00001_forg\n/storage/Study/DBO/project/data/combined_dataset/sample_signature/sample_Signature/combined/00002\n/storage/Study/DBO/project/data/combined_dataset/sample_signature/sample_Signature/combined/00002_forg\n/storage/Study/DBO/project/data/combined_dataset/sample_signature/sample_Signature/combined/00005\n/storage/Study/DBO/project/data/combined_dataset/sample_signature/sample_Signature/combined/00005_forg\n/storage/Study/DBO/project/data/combined_dataset/sample_signature/sample_Signature/combined/00009\n/storage/Study/DBO/project/data/combined_dataset/sample_signature/sample_Signature/combined/00009_forg\n/storage/Study/DBO/project/data/combined_dataset/sample_signature/sample_Signature/combined/00018\n/storage/Study/DBO/project/data/combined_dataset/sample_signature/sample_Signature/combined/00018_forg\n/storage/Study/DBO/project/data/combined_dataset/sample_signature/sample_Signature/combined/00001\n/storage/Study/DBO/project/data/combined_dataset/sample_signature/sample_Signature/combined/00001_forg\n/storage/Study/DBO/project/data/combined_dataset/sample_signature/sample_Signature/combined/00002\n/storage/Study/DBO/project/data/combined_dataset/sample_signature/sample_Signature/combined/00002_forg\n/storage/Study/DBO/project/data/combined_dataset/sample_signature/sample_Signature/combined/00005\n/storage/Study/DBO/project/data/combined_dataset/sample_signature/sample_Signature/combined/00005_forg\n/storage/Study/DBO/project/data/combined_dataset/sample_signature/sample_Signature/combined/00009\n/storage/Study/DBO/project/data/combined_dataset/sample_signature/sample_Signature/combined/00009_forg\n/storage/Study/DBO/project/data/combined_dataset/sample_signature/sample_Signature/combined/00018\n/storage/Study/DBO/project/data/combined_dataset/sample_signature/sample_Signature/combined/00018_forg\n/storage/Study/DBO/project/data/combined_dataset/sample_signature/sample_Signature/combined/00003\n/storage/Study/DBO/project/data/combined_dataset/sample_signature/sample_Signature/combined/00003_forg\n/storage/Study/DBO/project/data/combined_dataset/sample_signature/sample_Signature/combined/00007\n/storage/Study/DBO/project/data/combined_dataset/sample_signature/sample_Signature/combined/00007_forg\n/storage/Study/DBO/project/data/combined_dataset/sample_signature/sample_Signature/combined/00013\n/storage/Study/DBO/project/data/combined_dataset/sample_signature/sample_Signature/combined/00013_forg\n/storage/Study/DBO/project/data/combined_dataset/sample_signature/sample_Signature/combined/00024\n/storage/Study/DBO/project/data/combined_dataset/sample_signature/sample_Signature/combined/00024_forg\n/storage/Study/DBO/project/data/combined_dataset/sample_signature/sample_Signature/combined/00019\n/storage/Study/DBO/project/data/combined_dataset/sample_signature/sample_Signature/combined/00019_forg\n/storage/Study/DBO/project/data/combined_dataset/sample_signature/sample_Signature/combined/00026\n/storage/Study/DBO/project/data/combined_dataset/sample_signature/sample_Signature/combined/00026_forg\n/storage/Study/DBO/project/data/combined_dataset/sample_signature/sample_Signature/combined/00005\n/storage/Study/DBO/project/data/combined_dataset/sample_signature/sample_Signature/combined/00005_forg\n/storage/Study/DBO/project/data/combined_dataset/sample_signature/sample_Signature/combined/00003\n/storage/Study/DBO/project/data/combined_dataset/sample_signature/sample_Signature/combined/00003_forg\n/storage/Study/DBO/project/data/combined_dataset/sample_signature/sample_Signature/combined/00022\n/storage/Study/DBO/project/data/combined_dataset/sample_signature/sample_Signature/combined/00022_forg\n/storage/Study/DBO/project/data/combined_dataset/sample_signature/sample_Signature/combined/00011\n/storage/Study/DBO/project/data/combined_dataset/sample_signature/sample_Signature/combined/00011_forg\n/storage/Study/DBO/project/data/combined_dataset/sample_signature/sample_Signature/combined/00017\n/storage/Study/DBO/project/data/combined_dataset/sample_signature/sample_Signature/combined/00017_forg\n/storage/Study/DBO/project/data/combined_dataset/sample_signature/sample_Signature/combined/00007\n/storage/Study/DBO/project/data/combined_dataset/sample_signature/sample_Signature/combined/00007_forg\n/storage/Study/DBO/project/data/combined_dataset/sample_signature/sample_Signature/combined/00013\n/storage/Study/DBO/project/data/combined_dataset/sample_signature/sample_Signature/combined/00013_forg\n/storage/Study/DBO/project/data/combined_dataset/sample_signature/sample_Signature/combined/00024\n/storage/Study/DBO/project/data/combined_dataset/sample_signature/sample_Signature/combined/00024_forg\n/storage/Study/DBO/project/data/combined_dataset/sample_signature/sample_Signature/combined/00003\n/storage/Study/DBO/project/data/combined_dataset/sample_signature/sample_Signature/combined/00003_forg\n/storage/Study/DBO/project/data/combined_dataset/sample_signature/sample_Signature/combined/00007\n/storage/Study/DBO/project/data/combined_dataset/sample_signature/sample_Signature/combined/00007_forg\n/storage/Study/DBO/project/data/combined_dataset/sample_signature/sample_Signature/combined/00013\n/storage/Study/DBO/project/data/combined_dataset/sample_signature/sample_Signature/combined/00013_forg\n/storage/Study/DBO/project/data/combined_dataset/sample_signature/sample_Signature/combined/00024\n/storage/Study/DBO/project/data/combined_dataset/sample_signature/sample_Signature/combined/00024_forg\n/storage/Study/DBO/project/data/combined_dataset/sample_signature/sample_Signature/combined/00003\n/storage/Study/DBO/project/data/combined_dataset/sample_signature/sample_Signature/combined/00003_forg\n/storage/Study/DBO/project/data/combined_dataset/sample_signature/sample_Signature/combined/00007\n/storage/Study/DBO/project/data/combined_dataset/sample_signature/sample_Signature/combined/00007_forg\n/storage/Study/DBO/project/data/combined_dataset/sample_signature/sample_Signature/combined/00013\n/storage/Study/DBO/project/data/combined_dataset/sample_signature/sample_Signature/combined/00013_forg\n/storage/Study/DBO/project/data/combined_dataset/sample_signature/sample_Signature/combined/00024\n/storage/Study/DBO/project/data/combined_dataset/sample_signature/sample_Signature/combined/00024_forg\n/storage/Study/DBO/project/data/combined_dataset/sample_signature/sample_Signature/combined/00003\n/storage/Study/DBO/project/data/combined_dataset/sample_signature/sample_Signature/combined/00003_forg\n/storage/Study/DBO/project/data/combined_dataset/sample_signature/sample_Signature/combined/00007\n/storage/Study/DBO/project/data/combined_dataset/sample_signature/sample_Signature/combined/00007_forg\n/storage/Study/DBO/project/data/combined_dataset/sample_signature/sample_Signature/combined/00013\n/storage/Study/DBO/project/data/combined_dataset/sample_signature/sample_Signature/combined/00013_forg\n/storage/Study/DBO/project/data/combined_dataset/sample_signature/sample_Signature/combined/00024\n/storage/Study/DBO/project/data/combined_dataset/sample_signature/sample_Signature/combined/00024_forg\n/storage/Study/DBO/project/data/combined_dataset/sample_signature/sample_Signature/combined/00015\n/storage/Study/DBO/project/data/combined_dataset/sample_signature/sample_Signature/combined/00015_forg\n/storage/Study/DBO/project/data/combined_dataset/sample_signature/sample_Signature/combined/00015\n/storage/Study/DBO/project/data/combined_dataset/sample_signature/sample_Signature/combined/00015_forg\n/storage/Study/DBO/project/data/combined_dataset/sample_signature/sample_Signature/combined/00022\n/storage/Study/DBO/project/data/combined_dataset/sample_signature/sample_Signature/combined/00022_forg\n/storage/Study/DBO/project/data/combined_dataset/sample_signature/sample_Signature/combined/00015\n/storage/Study/DBO/project/data/combined_dataset/sample_signature/sample_Signature/combined/00015_forg\n/storage/Study/DBO/project/data/combined_dataset/sample_signature/sample_Signature/combined/00022\n/storage/Study/DBO/project/data/combined_dataset/sample_signature/sample_Signature/combined/00022_forg\n/storage/Study/DBO/project/data/combined_dataset/sample_signature/sample_Signature/combined/00015\n/storage/Study/DBO/project/data/combined_dataset/sample_signature/sample_Signature/combined/00015_forg\n/storage/Study/DBO/project/data/combined_dataset/sample_signature/sample_Signature/combined/00022\n/storage/Study/DBO/project/data/combined_dataset/sample_signature/sample_Signature/combined/00022_forg\n/storage/Study/DBO/project/data/combined_dataset/sample_signature/sample_Signature/combined/00015\n/storage/Study/DBO/project/data/combined_dataset/sample_signature/sample_Signature/combined/00015_forg\n/storage/Study/DBO/project/data/combined_dataset/sample_signature/sample_Signature/combined/00022\n/storage/Study/DBO/project/data/combined_dataset/sample_signature/sample_Signature/combined/00022_forg\n/storage/Study/DBO/project/data/combined_dataset/sample_signature/sample_Signature/combined/00011\n/storage/Study/DBO/project/data/combined_dataset/sample_signature/sample_Signature/combined/00011_forg\n/storage/Study/DBO/project/data/combined_dataset/sample_signature/sample_Signature/combined/00023\n/storage/Study/DBO/project/data/combined_dataset/sample_signature/sample_Signature/combined/00023_forg\n/storage/Study/DBO/project/data/combined_dataset/sample_signature/sample_Signature/combined/00011\n/storage/Study/DBO/project/data/combined_dataset/sample_signature/sample_Signature/combined/00011_forg\n/storage/Study/DBO/project/data/combined_dataset/sample_signature/sample_Signature/combined/00023\n/storage/Study/DBO/project/data/combined_dataset/sample_signature/sample_Signature/combined/00023_forg\n/storage/Study/DBO/project/data/combined_dataset/sample_signature/sample_Signature/combined/00011\n/storage/Study/DBO/project/data/combined_dataset/sample_signature/sample_Signature/combined/00011_forg\n/storage/Study/DBO/project/data/combined_dataset/sample_signature/sample_Signature/combined/00023\n/storage/Study/DBO/project/data/combined_dataset/sample_signature/sample_Signature/combined/00023_forg\n/storage/Study/DBO/project/data/combined_dataset/sample_signature/sample_Signature/combined/00011\n/storage/Study/DBO/project/data/combined_dataset/sample_signature/sample_Signature/combined/00011_forg\n/storage/Study/DBO/project/data/combined_dataset/sample_signature/sample_Signature/combined/00023\n/storage/Study/DBO/project/data/combined_dataset/sample_signature/sample_Signature/combined/00023_forg\n/storage/Study/DBO/project/data/combined_dataset/sample_signature/sample_Signature/combined/00023\n/storage/Study/DBO/project/data/combined_dataset/sample_signature/sample_Signature/combined/00023_forg\n/storage/Study/DBO/project/data/combined_dataset/sample_signature/sample_Signature/combined/00012\n/storage/Study/DBO/project/data/combined_dataset/sample_signature/sample_Signature/combined/00012_forg\n/storage/Study/DBO/project/data/combined_dataset/sample_signature/sample_Signature/combined/00016\n/storage/Study/DBO/project/data/combined_dataset/sample_signature/sample_Signature/combined/00016_forg\n/storage/Study/DBO/project/data/combined_dataset/sample_signature/sample_Signature/combined/00012\n/storage/Study/DBO/project/data/combined_dataset/sample_signature/sample_Signature/combined/00012_forg\n/storage/Study/DBO/project/data/combined_dataset/sample_signature/sample_Signature/combined/00016\n/storage/Study/DBO/project/data/combined_dataset/sample_signature/sample_Signature/combined/00016_forg\n/storage/Study/DBO/project/data/combined_dataset/sample_signature/sample_Signature/combined/00012\n/storage/Study/DBO/project/data/combined_dataset/sample_signature/sample_Signature/combined/00012_forg\n/storage/Study/DBO/project/data/combined_dataset/sample_signature/sample_Signature/combined/00016\n/storage/Study/DBO/project/data/combined_dataset/sample_signature/sample_Signature/combined/00016_forg\n/storage/Study/DBO/project/data/combined_dataset/sample_signature/sample_Signature/combined/00012\n/storage/Study/DBO/project/data/combined_dataset/sample_signature/sample_Signature/combined/00012_forg\n/storage/Study/DBO/project/data/combined_dataset/sample_signature/sample_Signature/combined/00016\n/storage/Study/DBO/project/data/combined_dataset/sample_signature/sample_Signature/combined/00016_forg\n/storage/Study/DBO/project/data/combined_dataset/sample_signature/sample_Signature/combined/00012\n/storage/Study/DBO/project/data/combined_dataset/sample_signature/sample_Signature/combined/00012_forg\n/storage/Study/DBO/project/data/combined_dataset/sample_signature/sample_Signature/combined/00016\n/storage/Study/DBO/project/data/combined_dataset/sample_signature/sample_Signature/combined/00016_forg\n/storage/Study/DBO/project/data/combined_dataset/sample_signature/sample_Signature/combined/00021\n/storage/Study/DBO/project/data/combined_dataset/sample_signature/sample_Signature/combined/00021_forg\n/storage/Study/DBO/project/data/combined_dataset/sample_signature/sample_Signature/combined/00021\n/storage/Study/DBO/project/data/combined_dataset/sample_signature/sample_Signature/combined/00021_forg\n/storage/Study/DBO/project/data/combined_dataset/sample_signature/sample_Signature/combined/00021\n/storage/Study/DBO/project/data/combined_dataset/sample_signature/sample_Signature/combined/00021_forg\n/storage/Study/DBO/project/data/combined_dataset/sample_signature/sample_Signature/combined/00021\n/storage/Study/DBO/project/data/combined_dataset/sample_signature/sample_Signature/combined/00021_forg\n/storage/Study/DBO/project/data/combined_dataset/sample_signature/sample_Signature/combined/00021\n/storage/Study/DBO/project/data/combined_dataset/sample_signature/sample_Signature/combined/00021_forg\n/storage/Study/DBO/project/data/combined_dataset/sample_signature/sample_Signature/combined/00017\n/storage/Study/DBO/project/data/combined_dataset/sample_signature/sample_Signature/combined/00017_forg\n/storage/Study/DBO/project/data/combined_dataset/sample_signature/sample_Signature/combined/00017\n/storage/Study/DBO/project/data/combined_dataset/sample_signature/sample_Signature/combined/00017_forg\n/storage/Study/DBO/project/data/combined_dataset/sample_signature/sample_Signature/combined/00017\n/storage/Study/DBO/project/data/combined_dataset/sample_signature/sample_Signature/combined/00017_forg\n/storage/Study/DBO/project/data/combined_dataset/sample_signature/sample_Signature/combined/00017\n/storage/Study/DBO/project/data/combined_dataset/sample_signature/sample_Signature/combined/00017_forg\n/storage/Study/DBO/project/data/combined_dataset/sample_signature/sample_Signature/combined/00020\n/storage/Study/DBO/project/data/combined_dataset/sample_signature/sample_Signature/combined/00020_forg\n/storage/Study/DBO/project/data/combined_dataset/sample_signature/sample_Signature/combined/00020\n/storage/Study/DBO/project/data/combined_dataset/sample_signature/sample_Signature/combined/00020_forg\n/storage/Study/DBO/project/data/combined_dataset/sample_signature/sample_Signature/combined/00020\n/storage/Study/DBO/project/data/combined_dataset/sample_signature/sample_Signature/combined/00020_forg\n/storage/Study/DBO/project/data/combined_dataset/sample_signature/sample_Signature/combined/00020\n/storage/Study/DBO/project/data/combined_dataset/sample_signature/sample_Signature/combined/00020_forg\n/storage/Study/DBO/project/data/combined_dataset/sample_signature/sample_Signature/combined/00020\n/storage/Study/DBO/project/data/combined_dataset/sample_signature/sample_Signature/combined/00020_forg\n/storage/Study/DBO/project/data/combined_dataset/sample_signature/sample_Signature/combined/00008\n/storage/Study/DBO/project/data/combined_dataset/sample_signature/sample_Signature/combined/00008_forg\n/storage/Study/DBO/project/data/combined_dataset/sample_signature/sample_Signature/combined/00008\n/storage/Study/DBO/project/data/combined_dataset/sample_signature/sample_Signature/combined/00008_forg\n/storage/Study/DBO/project/data/combined_dataset/sample_signature/sample_Signature/combined/00008\n/storage/Study/DBO/project/data/combined_dataset/sample_signature/sample_Signature/combined/00008_forg\n/storage/Study/DBO/project/data/combined_dataset/sample_signature/sample_Signature/combined/00008\n/storage/Study/DBO/project/data/combined_dataset/sample_signature/sample_Signature/combined/00008_forg\n/storage/Study/DBO/project/data/combined_dataset/sample_signature/sample_Signature/combined/00008\n/storage/Study/DBO/project/data/combined_dataset/sample_signature/sample_Signature/combined/00008_forg\n/storage/Study/DBO/project/data/combined_dataset/sample_signature/sample_Signature/combined/00010\n/storage/Study/DBO/project/data/combined_dataset/sample_signature/sample_Signature/combined/00010_forg\n/storage/Study/DBO/project/data/combined_dataset/sample_signature/sample_Signature/combined/00010\n/storage/Study/DBO/project/data/combined_dataset/sample_signature/sample_Signature/combined/00010_forg\n/storage/Study/DBO/project/data/combined_dataset/sample_signature/sample_Signature/combined/00010\n/storage/Study/DBO/project/data/combined_dataset/sample_signature/sample_Signature/combined/00010_forg\n/storage/Study/DBO/project/data/combined_dataset/sample_signature/sample_Signature/combined/00010\n/storage/Study/DBO/project/data/combined_dataset/sample_signature/sample_Signature/combined/00010_forg\n/storage/Study/DBO/project/data/combined_dataset/sample_signature/sample_Signature/combined/00009\n/storage/Study/DBO/project/data/combined_dataset/sample_signature/sample_Signature/combined/00009_forg\n/storage/Study/DBO/project/data/combined_dataset/sample_signature/sample_Signature/combined/00006\n/storage/Study/DBO/project/data/combined_dataset/sample_signature/sample_Signature/combined/00006_forg\n/storage/Study/DBO/project/data/combined_dataset/sample_signature/sample_Signature/combined/00006\n/storage/Study/DBO/project/data/combined_dataset/sample_signature/sample_Signature/combined/00006_forg\n/storage/Study/DBO/project/data/combined_dataset/sample_signature/sample_Signature/combined/00006\n/storage/Study/DBO/project/data/combined_dataset/sample_signature/sample_Signature/combined/00006_forg\n/storage/Study/DBO/project/data/combined_dataset/sample_signature/sample_Signature/combined/00006\n/storage/Study/DBO/project/data/combined_dataset/sample_signature/sample_Signature/combined/00006_forg\n/storage/Study/DBO/project/data/combined_dataset/sample_signature/sample_Signature/combined/00006\n/storage/Study/DBO/project/data/combined_dataset/sample_signature/sample_Signature/combined/00006_forg\n/storage/Study/DBO/project/data/combined_dataset/sample_signature/sample_Signature/combined/00004\n/storage/Study/DBO/project/data/combined_dataset/sample_signature/sample_Signature/combined/00004_forg\n/storage/Study/DBO/project/data/combined_dataset/sample_signature/sample_Signature/combined/00004\n/storage/Study/DBO/project/data/combined_dataset/sample_signature/sample_Signature/combined/00004_forg\n/storage/Study/DBO/project/data/combined_dataset/sample_signature/sample_Signature/combined/00004\n/storage/Study/DBO/project/data/combined_dataset/sample_signature/sample_Signature/combined/00004_forg\n/storage/Study/DBO/project/data/combined_dataset/sample_signature/sample_Signature/combined/00004\n/storage/Study/DBO/project/data/combined_dataset/sample_signature/sample_Signature/combined/00004_forg\n/storage/Study/DBO/project/data/combined_dataset/sample_signature/sample_Signature/combined/00004\n/storage/Study/DBO/project/data/combined_dataset/sample_signature/sample_Signature/combined/00004_forg\n"
    }
   ],
   "source": [
    "for root, dirs, files in os.walk(forged_dir):\n",
    "    for i in files:\n",
    "        filepath = os.path.join(forged_dir, i)\n",
    "        print(os.path.join(combined_dir, \"00\"+i.split('_')[0][-7:-4]))\n",
    "        print(os.path.join(combined_dir, \"00\"+i.split('_')[0][-7:-4]+'_forg'))\n",
    "        try:\n",
    "            os.mkdir(os.path.join(combined_dir, \"00\"+i.split('_')[0][-7:-4]))\n",
    "            os.mkdir(os.path.join(combined_dir, \"00\"+i.split('_')[0][-7:-4]+'_forg'))\n",
    "        except:\n",
    "            pass"
   ]
  },
  {
   "cell_type": "code",
   "execution_count": 92,
   "metadata": {
    "tags": [
     "outputPrepend"
    ]
   },
   "outputs": [
    {
     "output_type": "stream",
     "name": "stdout",
     "text": "8_forg/NFI-00305018.png\n/storage/Study/DBO/project/data/combined_dataset/sample_signature/sample_Signature/forged/NFI-00401003.png\n/storage/Study/DBO/project/data/combined_dataset/sample_signature/sample_Signature/combined/00003_forg/NFI-00401003.png\n/storage/Study/DBO/project/data/combined_dataset/sample_signature/sample_Signature/forged/NFI-00401007.png\n/storage/Study/DBO/project/data/combined_dataset/sample_signature/sample_Signature/combined/00007_forg/NFI-00401007.png\n/storage/Study/DBO/project/data/combined_dataset/sample_signature/sample_Signature/forged/NFI-00401013.png\n/storage/Study/DBO/project/data/combined_dataset/sample_signature/sample_Signature/combined/00013_forg/NFI-00401013.png\n/storage/Study/DBO/project/data/combined_dataset/sample_signature/sample_Signature/forged/NFI-00401024.png\n/storage/Study/DBO/project/data/combined_dataset/sample_signature/sample_Signature/combined/00024_forg/NFI-00401024.png\n/storage/Study/DBO/project/data/combined_dataset/sample_signature/sample_Signature/forged/NFI-00103019.png\n/storage/Study/DBO/project/data/combined_dataset/sample_signature/sample_Signature/combined/00019_forg/NFI-00103019.png\n/storage/Study/DBO/project/data/combined_dataset/sample_signature/sample_Signature/forged/NFI-00105026.PNG\n/storage/Study/DBO/project/data/combined_dataset/sample_signature/sample_Signature/combined/00026_forg/NFI-00105026.PNG\n/storage/Study/DBO/project/data/combined_dataset/sample_signature/sample_Signature/forged/NFI-00303005.png\n/storage/Study/DBO/project/data/combined_dataset/sample_signature/sample_Signature/combined/00005_forg/NFI-00303005.png\n/storage/Study/DBO/project/data/combined_dataset/sample_signature/sample_Signature/forged/NFI-00402003.png\n/storage/Study/DBO/project/data/combined_dataset/sample_signature/sample_Signature/combined/00003_forg/NFI-00402003.png\n/storage/Study/DBO/project/data/combined_dataset/sample_signature/sample_Signature/forged/NFI-00501022.png\n/storage/Study/DBO/project/data/combined_dataset/sample_signature/sample_Signature/combined/00022_forg/NFI-00501022.png\n/storage/Study/DBO/project/data/combined_dataset/sample_signature/sample_Signature/forged/NFI-00705011.png\n/storage/Study/DBO/project/data/combined_dataset/sample_signature/sample_Signature/combined/00011_forg/NFI-00705011.png\n/storage/Study/DBO/project/data/combined_dataset/sample_signature/sample_Signature/forged/NFI-01301017.png\n/storage/Study/DBO/project/data/combined_dataset/sample_signature/sample_Signature/combined/00017_forg/NFI-01301017.png\n/storage/Study/DBO/project/data/combined_dataset/sample_signature/sample_Signature/forged/NFI-00402007.png\n/storage/Study/DBO/project/data/combined_dataset/sample_signature/sample_Signature/combined/00007_forg/NFI-00402007.png\n/storage/Study/DBO/project/data/combined_dataset/sample_signature/sample_Signature/forged/NFI-00402013.png\n/storage/Study/DBO/project/data/combined_dataset/sample_signature/sample_Signature/combined/00013_forg/NFI-00402013.png\n/storage/Study/DBO/project/data/combined_dataset/sample_signature/sample_Signature/forged/NFI-00402024.png\n/storage/Study/DBO/project/data/combined_dataset/sample_signature/sample_Signature/combined/00024_forg/NFI-00402024.png\n/storage/Study/DBO/project/data/combined_dataset/sample_signature/sample_Signature/forged/NFI-00403003.png\n/storage/Study/DBO/project/data/combined_dataset/sample_signature/sample_Signature/combined/00003_forg/NFI-00403003.png\n/storage/Study/DBO/project/data/combined_dataset/sample_signature/sample_Signature/forged/NFI-00403007.png\n/storage/Study/DBO/project/data/combined_dataset/sample_signature/sample_Signature/combined/00007_forg/NFI-00403007.png\n/storage/Study/DBO/project/data/combined_dataset/sample_signature/sample_Signature/forged/NFI-00403013.png\n/storage/Study/DBO/project/data/combined_dataset/sample_signature/sample_Signature/combined/00013_forg/NFI-00403013.png\n/storage/Study/DBO/project/data/combined_dataset/sample_signature/sample_Signature/forged/NFI-00403024.png\n/storage/Study/DBO/project/data/combined_dataset/sample_signature/sample_Signature/combined/00024_forg/NFI-00403024.png\n/storage/Study/DBO/project/data/combined_dataset/sample_signature/sample_Signature/forged/NFI-00404003.png\n/storage/Study/DBO/project/data/combined_dataset/sample_signature/sample_Signature/combined/00003_forg/NFI-00404003.png\n/storage/Study/DBO/project/data/combined_dataset/sample_signature/sample_Signature/forged/NFI-00404007.png\n/storage/Study/DBO/project/data/combined_dataset/sample_signature/sample_Signature/combined/00007_forg/NFI-00404007.png\n/storage/Study/DBO/project/data/combined_dataset/sample_signature/sample_Signature/forged/NFI-00404013.png\n/storage/Study/DBO/project/data/combined_dataset/sample_signature/sample_Signature/combined/00013_forg/NFI-00404013.png\n/storage/Study/DBO/project/data/combined_dataset/sample_signature/sample_Signature/forged/NFI-00404024.png\n/storage/Study/DBO/project/data/combined_dataset/sample_signature/sample_Signature/combined/00024_forg/NFI-00404024.png\n/storage/Study/DBO/project/data/combined_dataset/sample_signature/sample_Signature/forged/NFI-00405003.png\n/storage/Study/DBO/project/data/combined_dataset/sample_signature/sample_Signature/combined/00003_forg/NFI-00405003.png\n/storage/Study/DBO/project/data/combined_dataset/sample_signature/sample_Signature/forged/NFI-00405007.png\n/storage/Study/DBO/project/data/combined_dataset/sample_signature/sample_Signature/combined/00007_forg/NFI-00405007.png\n/storage/Study/DBO/project/data/combined_dataset/sample_signature/sample_Signature/forged/NFI-00405013.png\n/storage/Study/DBO/project/data/combined_dataset/sample_signature/sample_Signature/combined/00013_forg/NFI-00405013.png\n/storage/Study/DBO/project/data/combined_dataset/sample_signature/sample_Signature/forged/NFI-00405024.png\n/storage/Study/DBO/project/data/combined_dataset/sample_signature/sample_Signature/combined/00024_forg/NFI-00405024.png\n/storage/Study/DBO/project/data/combined_dataset/sample_signature/sample_Signature/forged/NFI-00501015.png\n/storage/Study/DBO/project/data/combined_dataset/sample_signature/sample_Signature/combined/00015_forg/NFI-00501015.png\n/storage/Study/DBO/project/data/combined_dataset/sample_signature/sample_Signature/forged/NFI-00502015.png\n/storage/Study/DBO/project/data/combined_dataset/sample_signature/sample_Signature/combined/00015_forg/NFI-00502015.png\n/storage/Study/DBO/project/data/combined_dataset/sample_signature/sample_Signature/forged/NFI-00502022.png\n/storage/Study/DBO/project/data/combined_dataset/sample_signature/sample_Signature/combined/00022_forg/NFI-00502022.png\n/storage/Study/DBO/project/data/combined_dataset/sample_signature/sample_Signature/forged/NFI-00503015.png\n/storage/Study/DBO/project/data/combined_dataset/sample_signature/sample_Signature/combined/00015_forg/NFI-00503015.png\n/storage/Study/DBO/project/data/combined_dataset/sample_signature/sample_Signature/forged/NFI-00503022.png\n/storage/Study/DBO/project/data/combined_dataset/sample_signature/sample_Signature/combined/00022_forg/NFI-00503022.png\n/storage/Study/DBO/project/data/combined_dataset/sample_signature/sample_Signature/forged/NFI-00504015.png\n/storage/Study/DBO/project/data/combined_dataset/sample_signature/sample_Signature/combined/00015_forg/NFI-00504015.png\n/storage/Study/DBO/project/data/combined_dataset/sample_signature/sample_Signature/forged/NFI-00504022.png\n/storage/Study/DBO/project/data/combined_dataset/sample_signature/sample_Signature/combined/00022_forg/NFI-00504022.png\n/storage/Study/DBO/project/data/combined_dataset/sample_signature/sample_Signature/forged/NFI-00505015.png\n/storage/Study/DBO/project/data/combined_dataset/sample_signature/sample_Signature/combined/00015_forg/NFI-00505015.png\n/storage/Study/DBO/project/data/combined_dataset/sample_signature/sample_Signature/forged/NFI-00505022.png\n/storage/Study/DBO/project/data/combined_dataset/sample_signature/sample_Signature/combined/00022_forg/NFI-00505022.png\n/storage/Study/DBO/project/data/combined_dataset/sample_signature/sample_Signature/forged/NFI-00701011.png\n/storage/Study/DBO/project/data/combined_dataset/sample_signature/sample_Signature/combined/00011_forg/NFI-00701011.png\n/storage/Study/DBO/project/data/combined_dataset/sample_signature/sample_Signature/forged/NFI-00701023.png\n/storage/Study/DBO/project/data/combined_dataset/sample_signature/sample_Signature/combined/00023_forg/NFI-00701023.png\n/storage/Study/DBO/project/data/combined_dataset/sample_signature/sample_Signature/forged/NFI-00702011.png\n/storage/Study/DBO/project/data/combined_dataset/sample_signature/sample_Signature/combined/00011_forg/NFI-00702011.png\n/storage/Study/DBO/project/data/combined_dataset/sample_signature/sample_Signature/forged/NFI-00702023.png\n/storage/Study/DBO/project/data/combined_dataset/sample_signature/sample_Signature/combined/00023_forg/NFI-00702023.png\n/storage/Study/DBO/project/data/combined_dataset/sample_signature/sample_Signature/forged/NFI-00703011.png\n/storage/Study/DBO/project/data/combined_dataset/sample_signature/sample_Signature/combined/00011_forg/NFI-00703011.png\n/storage/Study/DBO/project/data/combined_dataset/sample_signature/sample_Signature/forged/NFI-00703023.png\n/storage/Study/DBO/project/data/combined_dataset/sample_signature/sample_Signature/combined/00023_forg/NFI-00703023.png\n/storage/Study/DBO/project/data/combined_dataset/sample_signature/sample_Signature/forged/NFI-00704011.png\n/storage/Study/DBO/project/data/combined_dataset/sample_signature/sample_Signature/combined/00011_forg/NFI-00704011.png\n/storage/Study/DBO/project/data/combined_dataset/sample_signature/sample_Signature/forged/NFI-00704023.png\n/storage/Study/DBO/project/data/combined_dataset/sample_signature/sample_Signature/combined/00023_forg/NFI-00704023.png\n/storage/Study/DBO/project/data/combined_dataset/sample_signature/sample_Signature/forged/NFI-00705023.png\n/storage/Study/DBO/project/data/combined_dataset/sample_signature/sample_Signature/combined/00023_forg/NFI-00705023.png\n/storage/Study/DBO/project/data/combined_dataset/sample_signature/sample_Signature/forged/NFI-01101012.png\n/storage/Study/DBO/project/data/combined_dataset/sample_signature/sample_Signature/combined/00012_forg/NFI-01101012.png\n/storage/Study/DBO/project/data/combined_dataset/sample_signature/sample_Signature/forged/NFI-01101016.png\n/storage/Study/DBO/project/data/combined_dataset/sample_signature/sample_Signature/combined/00016_forg/NFI-01101016.png\n/storage/Study/DBO/project/data/combined_dataset/sample_signature/sample_Signature/forged/NFI-01102012.png\n/storage/Study/DBO/project/data/combined_dataset/sample_signature/sample_Signature/combined/00012_forg/NFI-01102012.png\n/storage/Study/DBO/project/data/combined_dataset/sample_signature/sample_Signature/forged/NFI-01102016.png\n/storage/Study/DBO/project/data/combined_dataset/sample_signature/sample_Signature/combined/00016_forg/NFI-01102016.png\n/storage/Study/DBO/project/data/combined_dataset/sample_signature/sample_Signature/forged/NFI-01103012.png\n/storage/Study/DBO/project/data/combined_dataset/sample_signature/sample_Signature/combined/00012_forg/NFI-01103012.png\n/storage/Study/DBO/project/data/combined_dataset/sample_signature/sample_Signature/forged/NFI-01103016.png\n/storage/Study/DBO/project/data/combined_dataset/sample_signature/sample_Signature/combined/00016_forg/NFI-01103016.png\n/storage/Study/DBO/project/data/combined_dataset/sample_signature/sample_Signature/forged/NFI-01104012.png\n/storage/Study/DBO/project/data/combined_dataset/sample_signature/sample_Signature/combined/00012_forg/NFI-01104012.png\n/storage/Study/DBO/project/data/combined_dataset/sample_signature/sample_Signature/forged/NFI-01104016.png\n/storage/Study/DBO/project/data/combined_dataset/sample_signature/sample_Signature/combined/00016_forg/NFI-01104016.png\n/storage/Study/DBO/project/data/combined_dataset/sample_signature/sample_Signature/forged/NFI-01105012.png\n/storage/Study/DBO/project/data/combined_dataset/sample_signature/sample_Signature/combined/00012_forg/NFI-01105012.png\n/storage/Study/DBO/project/data/combined_dataset/sample_signature/sample_Signature/forged/NFI-01105016.png\n/storage/Study/DBO/project/data/combined_dataset/sample_signature/sample_Signature/combined/00016_forg/NFI-01105016.png\n/storage/Study/DBO/project/data/combined_dataset/sample_signature/sample_Signature/forged/NFI-01201021.png\n/storage/Study/DBO/project/data/combined_dataset/sample_signature/sample_Signature/combined/00021_forg/NFI-01201021.png\n/storage/Study/DBO/project/data/combined_dataset/sample_signature/sample_Signature/forged/NFI-01202021.png\n/storage/Study/DBO/project/data/combined_dataset/sample_signature/sample_Signature/combined/00021_forg/NFI-01202021.png\n/storage/Study/DBO/project/data/combined_dataset/sample_signature/sample_Signature/forged/NFI-01203021.png\n/storage/Study/DBO/project/data/combined_dataset/sample_signature/sample_Signature/combined/00021_forg/NFI-01203021.png\n/storage/Study/DBO/project/data/combined_dataset/sample_signature/sample_Signature/forged/NFI-01204021.png\n/storage/Study/DBO/project/data/combined_dataset/sample_signature/sample_Signature/combined/00021_forg/NFI-01204021.png\n/storage/Study/DBO/project/data/combined_dataset/sample_signature/sample_Signature/forged/NFI-01205021.png\n/storage/Study/DBO/project/data/combined_dataset/sample_signature/sample_Signature/combined/00021_forg/NFI-01205021.png\n/storage/Study/DBO/project/data/combined_dataset/sample_signature/sample_Signature/forged/NFI-01302017.png\n/storage/Study/DBO/project/data/combined_dataset/sample_signature/sample_Signature/combined/00017_forg/NFI-01302017.png\n/storage/Study/DBO/project/data/combined_dataset/sample_signature/sample_Signature/forged/NFI-01303017.png\n/storage/Study/DBO/project/data/combined_dataset/sample_signature/sample_Signature/combined/00017_forg/NFI-01303017.png\n/storage/Study/DBO/project/data/combined_dataset/sample_signature/sample_Signature/forged/NFI-01304017.png\n/storage/Study/DBO/project/data/combined_dataset/sample_signature/sample_Signature/combined/00017_forg/NFI-01304017.png\n/storage/Study/DBO/project/data/combined_dataset/sample_signature/sample_Signature/forged/NFI-01305017.png\n/storage/Study/DBO/project/data/combined_dataset/sample_signature/sample_Signature/combined/00017_forg/NFI-01305017.png\n/storage/Study/DBO/project/data/combined_dataset/sample_signature/sample_Signature/forged/NFI-01701020.png\n/storage/Study/DBO/project/data/combined_dataset/sample_signature/sample_Signature/combined/00020_forg/NFI-01701020.png\n/storage/Study/DBO/project/data/combined_dataset/sample_signature/sample_Signature/forged/NFI-01702020.png\n/storage/Study/DBO/project/data/combined_dataset/sample_signature/sample_Signature/combined/00020_forg/NFI-01702020.png\n/storage/Study/DBO/project/data/combined_dataset/sample_signature/sample_Signature/forged/NFI-01703020.png\n/storage/Study/DBO/project/data/combined_dataset/sample_signature/sample_Signature/combined/00020_forg/NFI-01703020.png\n/storage/Study/DBO/project/data/combined_dataset/sample_signature/sample_Signature/forged/NFI-01704020.png\n/storage/Study/DBO/project/data/combined_dataset/sample_signature/sample_Signature/combined/00020_forg/NFI-01704020.png\n/storage/Study/DBO/project/data/combined_dataset/sample_signature/sample_Signature/forged/NFI-01705020.png\n/storage/Study/DBO/project/data/combined_dataset/sample_signature/sample_Signature/combined/00020_forg/NFI-01705020.png\n/storage/Study/DBO/project/data/combined_dataset/sample_signature/sample_Signature/forged/NFI-02301008.png\n/storage/Study/DBO/project/data/combined_dataset/sample_signature/sample_Signature/combined/00008_forg/NFI-02301008.png\n/storage/Study/DBO/project/data/combined_dataset/sample_signature/sample_Signature/forged/NFI-02303008.png\n/storage/Study/DBO/project/data/combined_dataset/sample_signature/sample_Signature/combined/00008_forg/NFI-02303008.png\n/storage/Study/DBO/project/data/combined_dataset/sample_signature/sample_Signature/forged/NFI-02304008.png\n/storage/Study/DBO/project/data/combined_dataset/sample_signature/sample_Signature/combined/00008_forg/NFI-02304008.png\n/storage/Study/DBO/project/data/combined_dataset/sample_signature/sample_Signature/forged/NFI-02305008.png\n/storage/Study/DBO/project/data/combined_dataset/sample_signature/sample_Signature/combined/00008_forg/NFI-02305008.png\n/storage/Study/DBO/project/data/combined_dataset/sample_signature/sample_Signature/forged/NFI-02306008.png\n/storage/Study/DBO/project/data/combined_dataset/sample_signature/sample_Signature/combined/00008_forg/NFI-02306008.png\n/storage/Study/DBO/project/data/combined_dataset/sample_signature/sample_Signature/forged/NFI-02501010.png\n/storage/Study/DBO/project/data/combined_dataset/sample_signature/sample_Signature/combined/00010_forg/NFI-02501010.png\n/storage/Study/DBO/project/data/combined_dataset/sample_signature/sample_Signature/forged/NFI-02502010.png\n/storage/Study/DBO/project/data/combined_dataset/sample_signature/sample_Signature/combined/00010_forg/NFI-02502010.png\n/storage/Study/DBO/project/data/combined_dataset/sample_signature/sample_Signature/forged/NFI-02503010.png\n/storage/Study/DBO/project/data/combined_dataset/sample_signature/sample_Signature/combined/00010_forg/NFI-02503010.png\n/storage/Study/DBO/project/data/combined_dataset/sample_signature/sample_Signature/forged/NFI-02504010.png\n/storage/Study/DBO/project/data/combined_dataset/sample_signature/sample_Signature/combined/00010_forg/NFI-02504010.png\n/storage/Study/DBO/project/data/combined_dataset/sample_signature/sample_Signature/forged/NFI-02505009.png\n/storage/Study/DBO/project/data/combined_dataset/sample_signature/sample_Signature/combined/00009_forg/NFI-02505009.png\n/storage/Study/DBO/project/data/combined_dataset/sample_signature/sample_Signature/forged/NFI-03301006.png\n/storage/Study/DBO/project/data/combined_dataset/sample_signature/sample_Signature/combined/00006_forg/NFI-03301006.png\n/storage/Study/DBO/project/data/combined_dataset/sample_signature/sample_Signature/forged/NFI-03302006.png\n/storage/Study/DBO/project/data/combined_dataset/sample_signature/sample_Signature/combined/00006_forg/NFI-03302006.png\n/storage/Study/DBO/project/data/combined_dataset/sample_signature/sample_Signature/forged/NFI-03303006.png\n/storage/Study/DBO/project/data/combined_dataset/sample_signature/sample_Signature/combined/00006_forg/NFI-03303006.png\n/storage/Study/DBO/project/data/combined_dataset/sample_signature/sample_Signature/forged/NFI-03304006.png\n/storage/Study/DBO/project/data/combined_dataset/sample_signature/sample_Signature/combined/00006_forg/NFI-03304006.png\n/storage/Study/DBO/project/data/combined_dataset/sample_signature/sample_Signature/forged/NFI-03305006.png\n/storage/Study/DBO/project/data/combined_dataset/sample_signature/sample_Signature/combined/00006_forg/NFI-03305006.png\n/storage/Study/DBO/project/data/combined_dataset/sample_signature/sample_Signature/forged/NFI-08801004.png\n/storage/Study/DBO/project/data/combined_dataset/sample_signature/sample_Signature/combined/00004_forg/NFI-08801004.png\n/storage/Study/DBO/project/data/combined_dataset/sample_signature/sample_Signature/forged/NFI-08802004.png\n/storage/Study/DBO/project/data/combined_dataset/sample_signature/sample_Signature/combined/00004_forg/NFI-08802004.png\n/storage/Study/DBO/project/data/combined_dataset/sample_signature/sample_Signature/forged/NFI-08803004.png\n/storage/Study/DBO/project/data/combined_dataset/sample_signature/sample_Signature/combined/00004_forg/NFI-08803004.png\n/storage/Study/DBO/project/data/combined_dataset/sample_signature/sample_Signature/forged/NFI-08804004.png\n/storage/Study/DBO/project/data/combined_dataset/sample_signature/sample_Signature/combined/00004_forg/NFI-08804004.png\n/storage/Study/DBO/project/data/combined_dataset/sample_signature/sample_Signature/forged/NFI-08805004.png\n/storage/Study/DBO/project/data/combined_dataset/sample_signature/sample_Signature/combined/00004_forg/NFI-08805004.png\n"
    }
   ],
   "source": [
    "for root, dirs, files in os.walk(forged_dir):\n",
    "    for i in files:\n",
    "        filepath = os.path.join(forged_dir, i)\n",
    "        print(filepath)\n",
    "        print(os.path.join(combined_dir, \"00\"+i.split('_')[0][-7:-4]+'_forg', i))\n",
    "        shutil.move(filepath, os.path.join(combined_dir, \"00\"+i.split('_')[0][-7:-4]+'_forg', i))"
   ]
  },
  {
   "cell_type": "code",
   "execution_count": 91,
   "metadata": {
    "tags": [
     "outputPrepend"
    ]
   },
   "outputs": [
    {
     "output_type": "stream",
     "name": "stdout",
     "text": "le_Signature/genuine/NFI-01304013.png\n/storage/Study/DBO/project/data/combined_dataset/sample_signature/sample_Signature/combined/00013/NFI-01304013.png\n/storage/Study/DBO/project/data/combined_dataset/sample_signature/sample_Signature/genuine/NFI-01305013.png\n/storage/Study/DBO/project/data/combined_dataset/sample_signature/sample_Signature/combined/00013/NFI-01305013.png\n/storage/Study/DBO/project/data/combined_dataset/sample_signature/sample_Signature/genuine/NFI-01401014.png\n/storage/Study/DBO/project/data/combined_dataset/sample_signature/sample_Signature/combined/00014/NFI-01401014.png\n/storage/Study/DBO/project/data/combined_dataset/sample_signature/sample_Signature/genuine/NFI-01402014.png\n/storage/Study/DBO/project/data/combined_dataset/sample_signature/sample_Signature/combined/00014/NFI-01402014.png\n/storage/Study/DBO/project/data/combined_dataset/sample_signature/sample_Signature/genuine/NFI-01403014.png\n/storage/Study/DBO/project/data/combined_dataset/sample_signature/sample_Signature/combined/00014/NFI-01403014.png\n/storage/Study/DBO/project/data/combined_dataset/sample_signature/sample_Signature/genuine/NFI-01404014.png\n/storage/Study/DBO/project/data/combined_dataset/sample_signature/sample_Signature/combined/00014/NFI-01404014.png\n/storage/Study/DBO/project/data/combined_dataset/sample_signature/sample_Signature/genuine/NFI-00403004.png\n/storage/Study/DBO/project/data/combined_dataset/sample_signature/sample_Signature/combined/00004/NFI-00403004.png\n/storage/Study/DBO/project/data/combined_dataset/sample_signature/sample_Signature/genuine/NFI-00801008.png\n/storage/Study/DBO/project/data/combined_dataset/sample_signature/sample_Signature/combined/00008/NFI-00801008.png\n/storage/Study/DBO/project/data/combined_dataset/sample_signature/sample_Signature/genuine/NFI-01103011.png\n/storage/Study/DBO/project/data/combined_dataset/sample_signature/sample_Signature/combined/00011/NFI-01103011.png\n/storage/Study/DBO/project/data/combined_dataset/sample_signature/sample_Signature/genuine/NFI-01405014.png\n/storage/Study/DBO/project/data/combined_dataset/sample_signature/sample_Signature/combined/00014/NFI-01405014.png\n/storage/Study/DBO/project/data/combined_dataset/sample_signature/sample_Signature/genuine/NFI-01802018.png\n/storage/Study/DBO/project/data/combined_dataset/sample_signature/sample_Signature/combined/00018/NFI-01802018.png\n/storage/Study/DBO/project/data/combined_dataset/sample_signature/sample_Signature/genuine/NFI-02104021.png\n/storage/Study/DBO/project/data/combined_dataset/sample_signature/sample_Signature/combined/00021/NFI-02104021.png\n/storage/Study/DBO/project/data/combined_dataset/sample_signature/sample_Signature/genuine/NFI-02501025.PNG\n/storage/Study/DBO/project/data/combined_dataset/sample_signature/sample_Signature/combined/00025/NFI-02501025.PNG\n/storage/Study/DBO/project/data/combined_dataset/sample_signature/sample_Signature/genuine/NFI-01501015.png\n/storage/Study/DBO/project/data/combined_dataset/sample_signature/sample_Signature/combined/00015/NFI-01501015.png\n/storage/Study/DBO/project/data/combined_dataset/sample_signature/sample_Signature/genuine/NFI-01502015.png\n/storage/Study/DBO/project/data/combined_dataset/sample_signature/sample_Signature/combined/00015/NFI-01502015.png\n/storage/Study/DBO/project/data/combined_dataset/sample_signature/sample_Signature/genuine/NFI-01503015.png\n/storage/Study/DBO/project/data/combined_dataset/sample_signature/sample_Signature/combined/00015/NFI-01503015.png\n/storage/Study/DBO/project/data/combined_dataset/sample_signature/sample_Signature/genuine/NFI-01504015.png\n/storage/Study/DBO/project/data/combined_dataset/sample_signature/sample_Signature/combined/00015/NFI-01504015.png\n/storage/Study/DBO/project/data/combined_dataset/sample_signature/sample_Signature/genuine/NFI-01505015.png\n/storage/Study/DBO/project/data/combined_dataset/sample_signature/sample_Signature/combined/00015/NFI-01505015.png\n/storage/Study/DBO/project/data/combined_dataset/sample_signature/sample_Signature/genuine/NFI-01601016.png\n/storage/Study/DBO/project/data/combined_dataset/sample_signature/sample_Signature/combined/00016/NFI-01601016.png\n/storage/Study/DBO/project/data/combined_dataset/sample_signature/sample_Signature/genuine/NFI-01602016.png\n/storage/Study/DBO/project/data/combined_dataset/sample_signature/sample_Signature/combined/00016/NFI-01602016.png\n/storage/Study/DBO/project/data/combined_dataset/sample_signature/sample_Signature/genuine/NFI-01603016.png\n/storage/Study/DBO/project/data/combined_dataset/sample_signature/sample_Signature/combined/00016/NFI-01603016.png\n/storage/Study/DBO/project/data/combined_dataset/sample_signature/sample_Signature/genuine/NFI-01604016.png\n/storage/Study/DBO/project/data/combined_dataset/sample_signature/sample_Signature/combined/00016/NFI-01604016.png\n/storage/Study/DBO/project/data/combined_dataset/sample_signature/sample_Signature/genuine/NFI-01605016.png\n/storage/Study/DBO/project/data/combined_dataset/sample_signature/sample_Signature/combined/00016/NFI-01605016.png\n/storage/Study/DBO/project/data/combined_dataset/sample_signature/sample_Signature/genuine/NFI-01701017.png\n/storage/Study/DBO/project/data/combined_dataset/sample_signature/sample_Signature/combined/00017/NFI-01701017.png\n/storage/Study/DBO/project/data/combined_dataset/sample_signature/sample_Signature/genuine/NFI-01702017.png\n/storage/Study/DBO/project/data/combined_dataset/sample_signature/sample_Signature/combined/00017/NFI-01702017.png\n/storage/Study/DBO/project/data/combined_dataset/sample_signature/sample_Signature/genuine/NFI-01703017.png\n/storage/Study/DBO/project/data/combined_dataset/sample_signature/sample_Signature/combined/00017/NFI-01703017.png\n/storage/Study/DBO/project/data/combined_dataset/sample_signature/sample_Signature/genuine/NFI-01704017.png\n/storage/Study/DBO/project/data/combined_dataset/sample_signature/sample_Signature/combined/00017/NFI-01704017.png\n/storage/Study/DBO/project/data/combined_dataset/sample_signature/sample_Signature/genuine/NFI-01705017.png\n/storage/Study/DBO/project/data/combined_dataset/sample_signature/sample_Signature/combined/00017/NFI-01705017.png\n/storage/Study/DBO/project/data/combined_dataset/sample_signature/sample_Signature/genuine/NFI-01801018.png\n/storage/Study/DBO/project/data/combined_dataset/sample_signature/sample_Signature/combined/00018/NFI-01801018.png\n/storage/Study/DBO/project/data/combined_dataset/sample_signature/sample_Signature/genuine/NFI-01803018.png\n/storage/Study/DBO/project/data/combined_dataset/sample_signature/sample_Signature/combined/00018/NFI-01803018.png\n/storage/Study/DBO/project/data/combined_dataset/sample_signature/sample_Signature/genuine/NFI-01804018.png\n/storage/Study/DBO/project/data/combined_dataset/sample_signature/sample_Signature/combined/00018/NFI-01804018.png\n/storage/Study/DBO/project/data/combined_dataset/sample_signature/sample_Signature/genuine/NFI-01805018.png\n/storage/Study/DBO/project/data/combined_dataset/sample_signature/sample_Signature/combined/00018/NFI-01805018.png\n/storage/Study/DBO/project/data/combined_dataset/sample_signature/sample_Signature/genuine/NFI-01901019.png\n/storage/Study/DBO/project/data/combined_dataset/sample_signature/sample_Signature/combined/00019/NFI-01901019.png\n/storage/Study/DBO/project/data/combined_dataset/sample_signature/sample_Signature/genuine/NFI-01902019.png\n/storage/Study/DBO/project/data/combined_dataset/sample_signature/sample_Signature/combined/00019/NFI-01902019.png\n/storage/Study/DBO/project/data/combined_dataset/sample_signature/sample_Signature/genuine/NFI-01903019.png\n/storage/Study/DBO/project/data/combined_dataset/sample_signature/sample_Signature/combined/00019/NFI-01903019.png\n/storage/Study/DBO/project/data/combined_dataset/sample_signature/sample_Signature/genuine/NFI-01904019.png\n/storage/Study/DBO/project/data/combined_dataset/sample_signature/sample_Signature/combined/00019/NFI-01904019.png\n/storage/Study/DBO/project/data/combined_dataset/sample_signature/sample_Signature/genuine/NFI-01905019.png\n/storage/Study/DBO/project/data/combined_dataset/sample_signature/sample_Signature/combined/00019/NFI-01905019.png\n/storage/Study/DBO/project/data/combined_dataset/sample_signature/sample_Signature/genuine/NFI-02001020.png\n/storage/Study/DBO/project/data/combined_dataset/sample_signature/sample_Signature/combined/00020/NFI-02001020.png\n/storage/Study/DBO/project/data/combined_dataset/sample_signature/sample_Signature/genuine/NFI-02002020.png\n/storage/Study/DBO/project/data/combined_dataset/sample_signature/sample_Signature/combined/00020/NFI-02002020.png\n/storage/Study/DBO/project/data/combined_dataset/sample_signature/sample_Signature/genuine/NFI-02003020.png\n/storage/Study/DBO/project/data/combined_dataset/sample_signature/sample_Signature/combined/00020/NFI-02003020.png\n/storage/Study/DBO/project/data/combined_dataset/sample_signature/sample_Signature/genuine/NFI-02004020.png\n/storage/Study/DBO/project/data/combined_dataset/sample_signature/sample_Signature/combined/00020/NFI-02004020.png\n/storage/Study/DBO/project/data/combined_dataset/sample_signature/sample_Signature/genuine/NFI-02005020.png\n/storage/Study/DBO/project/data/combined_dataset/sample_signature/sample_Signature/combined/00020/NFI-02005020.png\n/storage/Study/DBO/project/data/combined_dataset/sample_signature/sample_Signature/genuine/NFI-02101021.png\n/storage/Study/DBO/project/data/combined_dataset/sample_signature/sample_Signature/combined/00021/NFI-02101021.png\n/storage/Study/DBO/project/data/combined_dataset/sample_signature/sample_Signature/genuine/NFI-02102021.png\n/storage/Study/DBO/project/data/combined_dataset/sample_signature/sample_Signature/combined/00021/NFI-02102021.png\n/storage/Study/DBO/project/data/combined_dataset/sample_signature/sample_Signature/genuine/NFI-02103021.png\n/storage/Study/DBO/project/data/combined_dataset/sample_signature/sample_Signature/combined/00021/NFI-02103021.png\n/storage/Study/DBO/project/data/combined_dataset/sample_signature/sample_Signature/genuine/NFI-02105021.png\n/storage/Study/DBO/project/data/combined_dataset/sample_signature/sample_Signature/combined/00021/NFI-02105021.png\n/storage/Study/DBO/project/data/combined_dataset/sample_signature/sample_Signature/genuine/NFI-02201022.png\n/storage/Study/DBO/project/data/combined_dataset/sample_signature/sample_Signature/combined/00022/NFI-02201022.png\n/storage/Study/DBO/project/data/combined_dataset/sample_signature/sample_Signature/genuine/NFI-02202022.png\n/storage/Study/DBO/project/data/combined_dataset/sample_signature/sample_Signature/combined/00022/NFI-02202022.png\n/storage/Study/DBO/project/data/combined_dataset/sample_signature/sample_Signature/genuine/NFI-02203022.png\n/storage/Study/DBO/project/data/combined_dataset/sample_signature/sample_Signature/combined/00022/NFI-02203022.png\n/storage/Study/DBO/project/data/combined_dataset/sample_signature/sample_Signature/genuine/NFI-02204022.png\n/storage/Study/DBO/project/data/combined_dataset/sample_signature/sample_Signature/combined/00022/NFI-02204022.png\n/storage/Study/DBO/project/data/combined_dataset/sample_signature/sample_Signature/genuine/NFI-02205022.png\n/storage/Study/DBO/project/data/combined_dataset/sample_signature/sample_Signature/combined/00022/NFI-02205022.png\n/storage/Study/DBO/project/data/combined_dataset/sample_signature/sample_Signature/genuine/NFI-02301023.png\n/storage/Study/DBO/project/data/combined_dataset/sample_signature/sample_Signature/combined/00023/NFI-02301023.png\n/storage/Study/DBO/project/data/combined_dataset/sample_signature/sample_Signature/genuine/NFI-02302023.png\n/storage/Study/DBO/project/data/combined_dataset/sample_signature/sample_Signature/combined/00023/NFI-02302023.png\n/storage/Study/DBO/project/data/combined_dataset/sample_signature/sample_Signature/genuine/NFI-02303023.png\n/storage/Study/DBO/project/data/combined_dataset/sample_signature/sample_Signature/combined/00023/NFI-02303023.png\n/storage/Study/DBO/project/data/combined_dataset/sample_signature/sample_Signature/genuine/NFI-02304023.png\n/storage/Study/DBO/project/data/combined_dataset/sample_signature/sample_Signature/combined/00023/NFI-02304023.png\n/storage/Study/DBO/project/data/combined_dataset/sample_signature/sample_Signature/genuine/NFI-02305023.png\n/storage/Study/DBO/project/data/combined_dataset/sample_signature/sample_Signature/combined/00023/NFI-02305023.png\n/storage/Study/DBO/project/data/combined_dataset/sample_signature/sample_Signature/genuine/NFI-02401024.png\n/storage/Study/DBO/project/data/combined_dataset/sample_signature/sample_Signature/combined/00024/NFI-02401024.png\n/storage/Study/DBO/project/data/combined_dataset/sample_signature/sample_Signature/genuine/NFI-02402024.png\n/storage/Study/DBO/project/data/combined_dataset/sample_signature/sample_Signature/combined/00024/NFI-02402024.png\n/storage/Study/DBO/project/data/combined_dataset/sample_signature/sample_Signature/genuine/NFI-02403024.png\n/storage/Study/DBO/project/data/combined_dataset/sample_signature/sample_Signature/combined/00024/NFI-02403024.png\n/storage/Study/DBO/project/data/combined_dataset/sample_signature/sample_Signature/genuine/NFI-02404024.png\n/storage/Study/DBO/project/data/combined_dataset/sample_signature/sample_Signature/combined/00024/NFI-02404024.png\n/storage/Study/DBO/project/data/combined_dataset/sample_signature/sample_Signature/genuine/NFI-02405024.png\n/storage/Study/DBO/project/data/combined_dataset/sample_signature/sample_Signature/combined/00024/NFI-02405024.png\n/storage/Study/DBO/project/data/combined_dataset/sample_signature/sample_Signature/genuine/NFI-02502025.PNG\n/storage/Study/DBO/project/data/combined_dataset/sample_signature/sample_Signature/combined/00025/NFI-02502025.PNG\n/storage/Study/DBO/project/data/combined_dataset/sample_signature/sample_Signature/genuine/NFI-02503025.PNG\n/storage/Study/DBO/project/data/combined_dataset/sample_signature/sample_Signature/combined/00025/NFI-02503025.PNG\n/storage/Study/DBO/project/data/combined_dataset/sample_signature/sample_Signature/genuine/NFI-02504025.PNG\n/storage/Study/DBO/project/data/combined_dataset/sample_signature/sample_Signature/combined/00025/NFI-02504025.PNG\n/storage/Study/DBO/project/data/combined_dataset/sample_signature/sample_Signature/genuine/NFI-02505025.PNG\n/storage/Study/DBO/project/data/combined_dataset/sample_signature/sample_Signature/combined/00025/NFI-02505025.PNG\n/storage/Study/DBO/project/data/combined_dataset/sample_signature/sample_Signature/genuine/NFI-02601026.PNG\n/storage/Study/DBO/project/data/combined_dataset/sample_signature/sample_Signature/combined/00026/NFI-02601026.PNG\n/storage/Study/DBO/project/data/combined_dataset/sample_signature/sample_Signature/genuine/NFI-02602026.PNG\n/storage/Study/DBO/project/data/combined_dataset/sample_signature/sample_Signature/combined/00026/NFI-02602026.PNG\n/storage/Study/DBO/project/data/combined_dataset/sample_signature/sample_Signature/genuine/NFI-02603026.PNG\n/storage/Study/DBO/project/data/combined_dataset/sample_signature/sample_Signature/combined/00026/NFI-02603026.PNG\n/storage/Study/DBO/project/data/combined_dataset/sample_signature/sample_Signature/genuine/NFI-02604026.PNG\n/storage/Study/DBO/project/data/combined_dataset/sample_signature/sample_Signature/combined/00026/NFI-02604026.PNG\n/storage/Study/DBO/project/data/combined_dataset/sample_signature/sample_Signature/genuine/NFI-02605026.PNG\n/storage/Study/DBO/project/data/combined_dataset/sample_signature/sample_Signature/combined/00026/NFI-02605026.PNG\n/storage/Study/DBO/project/data/combined_dataset/sample_signature/sample_Signature/genuine/NFI-02701027.PNG\n/storage/Study/DBO/project/data/combined_dataset/sample_signature/sample_Signature/combined/00027/NFI-02701027.PNG\n/storage/Study/DBO/project/data/combined_dataset/sample_signature/sample_Signature/genuine/NFI-02702027.PNG\n/storage/Study/DBO/project/data/combined_dataset/sample_signature/sample_Signature/combined/00027/NFI-02702027.PNG\n/storage/Study/DBO/project/data/combined_dataset/sample_signature/sample_Signature/genuine/NFI-02703027.PNG\n/storage/Study/DBO/project/data/combined_dataset/sample_signature/sample_Signature/combined/00027/NFI-02703027.PNG\n/storage/Study/DBO/project/data/combined_dataset/sample_signature/sample_Signature/genuine/NFI-02704027.PNG\n/storage/Study/DBO/project/data/combined_dataset/sample_signature/sample_Signature/combined/00027/NFI-02704027.PNG\n/storage/Study/DBO/project/data/combined_dataset/sample_signature/sample_Signature/genuine/NFI-02705027.PNG\n/storage/Study/DBO/project/data/combined_dataset/sample_signature/sample_Signature/combined/00027/NFI-02705027.PNG\n/storage/Study/DBO/project/data/combined_dataset/sample_signature/sample_Signature/genuine/NFI-02801028.PNG\n/storage/Study/DBO/project/data/combined_dataset/sample_signature/sample_Signature/combined/00028/NFI-02801028.PNG\n/storage/Study/DBO/project/data/combined_dataset/sample_signature/sample_Signature/genuine/NFI-02802028.PNG\n/storage/Study/DBO/project/data/combined_dataset/sample_signature/sample_Signature/combined/00028/NFI-02802028.PNG\n/storage/Study/DBO/project/data/combined_dataset/sample_signature/sample_Signature/genuine/NFI-02803028.PNG\n/storage/Study/DBO/project/data/combined_dataset/sample_signature/sample_Signature/combined/00028/NFI-02803028.PNG\n/storage/Study/DBO/project/data/combined_dataset/sample_signature/sample_Signature/genuine/NFI-02804028.PNG\n/storage/Study/DBO/project/data/combined_dataset/sample_signature/sample_Signature/combined/00028/NFI-02804028.PNG\n/storage/Study/DBO/project/data/combined_dataset/sample_signature/sample_Signature/genuine/NFI-02805028.PNG\n/storage/Study/DBO/project/data/combined_dataset/sample_signature/sample_Signature/combined/00028/NFI-02805028.PNG\n/storage/Study/DBO/project/data/combined_dataset/sample_signature/sample_Signature/genuine/NFI-02901029.PNG\n/storage/Study/DBO/project/data/combined_dataset/sample_signature/sample_Signature/combined/00029/NFI-02901029.PNG\n/storage/Study/DBO/project/data/combined_dataset/sample_signature/sample_Signature/genuine/NFI-02902029.PNG\n/storage/Study/DBO/project/data/combined_dataset/sample_signature/sample_Signature/combined/00029/NFI-02902029.PNG\n/storage/Study/DBO/project/data/combined_dataset/sample_signature/sample_Signature/genuine/NFI-02903029.PNG\n/storage/Study/DBO/project/data/combined_dataset/sample_signature/sample_Signature/combined/00029/NFI-02903029.PNG\n/storage/Study/DBO/project/data/combined_dataset/sample_signature/sample_Signature/genuine/NFI-02904029.PNG\n/storage/Study/DBO/project/data/combined_dataset/sample_signature/sample_Signature/combined/00029/NFI-02904029.PNG\n/storage/Study/DBO/project/data/combined_dataset/sample_signature/sample_Signature/genuine/NFI-02905029.PNG\n/storage/Study/DBO/project/data/combined_dataset/sample_signature/sample_Signature/combined/00029/NFI-02905029.PNG\n/storage/Study/DBO/project/data/combined_dataset/sample_signature/sample_Signature/genuine/NFI-03001030.PNG\n/storage/Study/DBO/project/data/combined_dataset/sample_signature/sample_Signature/combined/00030/NFI-03001030.PNG\n/storage/Study/DBO/project/data/combined_dataset/sample_signature/sample_Signature/genuine/NFI-03002030.PNG\n/storage/Study/DBO/project/data/combined_dataset/sample_signature/sample_Signature/combined/00030/NFI-03002030.PNG\n/storage/Study/DBO/project/data/combined_dataset/sample_signature/sample_Signature/genuine/NFI-03003030.PNG\n/storage/Study/DBO/project/data/combined_dataset/sample_signature/sample_Signature/combined/00030/NFI-03003030.PNG\n/storage/Study/DBO/project/data/combined_dataset/sample_signature/sample_Signature/genuine/NFI-03004030.PNG\n/storage/Study/DBO/project/data/combined_dataset/sample_signature/sample_Signature/combined/00030/NFI-03004030.PNG\n/storage/Study/DBO/project/data/combined_dataset/sample_signature/sample_Signature/genuine/NFI-03005030.PNG\n/storage/Study/DBO/project/data/combined_dataset/sample_signature/sample_Signature/combined/00030/NFI-03005030.PNG\n"
    }
   ],
   "source": [
    "for root, dirs, files in os.walk(genuine_dir):\n",
    "    for i in files:\n",
    "        filepath = os.path.join(genuine_dir, i)\n",
    "        print(filepath)\n",
    "        print(os.path.join(combined_dir, \"00\"+i.split('_')[0][-7:-4], i))\n",
    "        shutil.move(filepath, os.path.join(combined_dir, \"00\"+i.split('_')[0][-7:-4], i))"
   ]
  },
  {
   "cell_type": "code",
   "execution_count": null,
   "metadata": {},
   "outputs": [],
   "source": []
  },
  {
   "cell_type": "code",
   "execution_count": null,
   "metadata": {},
   "outputs": [],
   "source": []
  },
  {
   "cell_type": "code",
   "execution_count": null,
   "metadata": {},
   "outputs": [],
   "source": []
  },
  {
   "cell_type": "code",
   "execution_count": null,
   "metadata": {},
   "outputs": [],
   "source": []
  },
  {
   "cell_type": "code",
   "execution_count": null,
   "metadata": {},
   "outputs": [],
   "source": []
  },
  {
   "cell_type": "code",
   "execution_count": 93,
   "metadata": {},
   "outputs": [],
   "source": [
    "base_path = '/storage/Study/DBO/project/data/combined_dataset/signatures/'\n",
    "forged_dir = os.path.join(base_path,'forged')\n",
    "genuine_dir = os.path.join(base_path,'genuine')\n",
    "combined_dir = os.path.join(base_path,'combined')"
   ]
  },
  {
   "cell_type": "code",
   "execution_count": 115,
   "metadata": {
    "tags": [
     "outputPrepend"
    ]
   },
   "outputs": [
    {
     "output_type": "stream",
     "name": "stdout",
     "text": "data/combined_dataset/signatures/genuine/111116\nMove : /storage/Study/DBO/project/data/combined_dataset/signatures/original_6_2.png\nTo : /storage/Study/DBO/project/data/combined_dataset/signatures/genuine/6/2.png\n/storage/Study/DBO/project/data/combined_dataset/signatures/genuine/111116\nMove : /storage/Study/DBO/project/data/combined_dataset/signatures/original_6_20.png\nTo : /storage/Study/DBO/project/data/combined_dataset/signatures/genuine/6/20.png\n/storage/Study/DBO/project/data/combined_dataset/signatures/genuine/111116\nMove : /storage/Study/DBO/project/data/combined_dataset/signatures/original_5_13.png\nTo : /storage/Study/DBO/project/data/combined_dataset/signatures/genuine/5/13.png\n/storage/Study/DBO/project/data/combined_dataset/signatures/genuine/111115\nMove : /storage/Study/DBO/project/data/combined_dataset/signatures/original_5_14.png\nTo : /storage/Study/DBO/project/data/combined_dataset/signatures/genuine/5/14.png\n/storage/Study/DBO/project/data/combined_dataset/signatures/genuine/111115\nMove : /storage/Study/DBO/project/data/combined_dataset/signatures/original_5_15.png\nTo : /storage/Study/DBO/project/data/combined_dataset/signatures/genuine/5/15.png\n/storage/Study/DBO/project/data/combined_dataset/signatures/genuine/111115\nMove : /storage/Study/DBO/project/data/combined_dataset/signatures/original_5_16.png\nTo : /storage/Study/DBO/project/data/combined_dataset/signatures/genuine/5/16.png\n/storage/Study/DBO/project/data/combined_dataset/signatures/genuine/111115\nMove : /storage/Study/DBO/project/data/combined_dataset/signatures/original_5_17.png\nTo : /storage/Study/DBO/project/data/combined_dataset/signatures/genuine/5/17.png\n/storage/Study/DBO/project/data/combined_dataset/signatures/genuine/111115\nMove : /storage/Study/DBO/project/data/combined_dataset/signatures/original_5_18.png\nTo : /storage/Study/DBO/project/data/combined_dataset/signatures/genuine/5/18.png\n/storage/Study/DBO/project/data/combined_dataset/signatures/genuine/111115\nMove : /storage/Study/DBO/project/data/combined_dataset/signatures/original_5_19.png\nTo : /storage/Study/DBO/project/data/combined_dataset/signatures/genuine/5/19.png\n/storage/Study/DBO/project/data/combined_dataset/signatures/genuine/111115\nMove : /storage/Study/DBO/project/data/combined_dataset/signatures/original_5_2.png\nTo : /storage/Study/DBO/project/data/combined_dataset/signatures/genuine/5/2.png\n/storage/Study/DBO/project/data/combined_dataset/signatures/genuine/111115\nMove : /storage/Study/DBO/project/data/combined_dataset/signatures/original_5_20.png\nTo : /storage/Study/DBO/project/data/combined_dataset/signatures/genuine/5/20.png\n/storage/Study/DBO/project/data/combined_dataset/signatures/genuine/111115\nMove : /storage/Study/DBO/project/data/combined_dataset/signatures/original_5_21.png\nTo : /storage/Study/DBO/project/data/combined_dataset/signatures/genuine/5/21.png\n/storage/Study/DBO/project/data/combined_dataset/signatures/genuine/111115\nMove : /storage/Study/DBO/project/data/combined_dataset/signatures/original_5_22.png\nTo : /storage/Study/DBO/project/data/combined_dataset/signatures/genuine/5/22.png\n/storage/Study/DBO/project/data/combined_dataset/signatures/genuine/111115\nMove : /storage/Study/DBO/project/data/combined_dataset/signatures/original_5_23.png\nTo : /storage/Study/DBO/project/data/combined_dataset/signatures/genuine/5/23.png\n/storage/Study/DBO/project/data/combined_dataset/signatures/genuine/111115\nMove : /storage/Study/DBO/project/data/combined_dataset/signatures/original_5_24.png\nTo : /storage/Study/DBO/project/data/combined_dataset/signatures/genuine/5/24.png\n/storage/Study/DBO/project/data/combined_dataset/signatures/genuine/111115\nMove : /storage/Study/DBO/project/data/combined_dataset/signatures/original_5_3.png\nTo : /storage/Study/DBO/project/data/combined_dataset/signatures/genuine/5/3.png\n/storage/Study/DBO/project/data/combined_dataset/signatures/genuine/111115\nMove : /storage/Study/DBO/project/data/combined_dataset/signatures/original_5_4.png\nTo : /storage/Study/DBO/project/data/combined_dataset/signatures/genuine/5/4.png\n/storage/Study/DBO/project/data/combined_dataset/signatures/genuine/111115\nMove : /storage/Study/DBO/project/data/combined_dataset/signatures/original_5_5.png\nTo : /storage/Study/DBO/project/data/combined_dataset/signatures/genuine/5/5.png\n/storage/Study/DBO/project/data/combined_dataset/signatures/genuine/111115\nMove : /storage/Study/DBO/project/data/combined_dataset/signatures/original_4_4.png\nTo : /storage/Study/DBO/project/data/combined_dataset/signatures/genuine/4/4.png\n/storage/Study/DBO/project/data/combined_dataset/signatures/genuine/111114\nMove : /storage/Study/DBO/project/data/combined_dataset/signatures/original_4_5.png\nTo : /storage/Study/DBO/project/data/combined_dataset/signatures/genuine/4/5.png\n/storage/Study/DBO/project/data/combined_dataset/signatures/genuine/111114\nMove : /storage/Study/DBO/project/data/combined_dataset/signatures/original_4_6.png\nTo : /storage/Study/DBO/project/data/combined_dataset/signatures/genuine/4/6.png\n/storage/Study/DBO/project/data/combined_dataset/signatures/genuine/111114\nMove : /storage/Study/DBO/project/data/combined_dataset/signatures/original_4_7.png\nTo : /storage/Study/DBO/project/data/combined_dataset/signatures/genuine/4/7.png\n/storage/Study/DBO/project/data/combined_dataset/signatures/genuine/111114\nMove : /storage/Study/DBO/project/data/combined_dataset/signatures/original_4_8.png\nTo : /storage/Study/DBO/project/data/combined_dataset/signatures/genuine/4/8.png\n/storage/Study/DBO/project/data/combined_dataset/signatures/genuine/111114\nMove : /storage/Study/DBO/project/data/combined_dataset/signatures/original_4_9.png\nTo : /storage/Study/DBO/project/data/combined_dataset/signatures/genuine/4/9.png\n/storage/Study/DBO/project/data/combined_dataset/signatures/genuine/111114\nMove : /storage/Study/DBO/project/data/combined_dataset/signatures/original_50_1.png\nTo : /storage/Study/DBO/project/data/combined_dataset/signatures/genuine/50/1.png\n/storage/Study/DBO/project/data/combined_dataset/signatures/genuine/1111150\nMove : /storage/Study/DBO/project/data/combined_dataset/signatures/original_50_10.png\nTo : /storage/Study/DBO/project/data/combined_dataset/signatures/genuine/50/10.png\n/storage/Study/DBO/project/data/combined_dataset/signatures/genuine/1111150\nMove : /storage/Study/DBO/project/data/combined_dataset/signatures/original_50_11.png\nTo : /storage/Study/DBO/project/data/combined_dataset/signatures/genuine/50/11.png\n/storage/Study/DBO/project/data/combined_dataset/signatures/genuine/1111150\nMove : /storage/Study/DBO/project/data/combined_dataset/signatures/original_50_12.png\nTo : /storage/Study/DBO/project/data/combined_dataset/signatures/genuine/50/12.png\n/storage/Study/DBO/project/data/combined_dataset/signatures/genuine/1111150\nMove : /storage/Study/DBO/project/data/combined_dataset/signatures/original_50_13.png\nTo : /storage/Study/DBO/project/data/combined_dataset/signatures/genuine/50/13.png\n/storage/Study/DBO/project/data/combined_dataset/signatures/genuine/1111150\nMove : /storage/Study/DBO/project/data/combined_dataset/signatures/original_50_14.png\nTo : /storage/Study/DBO/project/data/combined_dataset/signatures/genuine/50/14.png\n/storage/Study/DBO/project/data/combined_dataset/signatures/genuine/1111150\nMove : /storage/Study/DBO/project/data/combined_dataset/signatures/original_50_15.png\nTo : /storage/Study/DBO/project/data/combined_dataset/signatures/genuine/50/15.png\n/storage/Study/DBO/project/data/combined_dataset/signatures/genuine/1111150\nMove : /storage/Study/DBO/project/data/combined_dataset/signatures/original_50_16.png\nTo : /storage/Study/DBO/project/data/combined_dataset/signatures/genuine/50/16.png\n/storage/Study/DBO/project/data/combined_dataset/signatures/genuine/1111150\nMove : /storage/Study/DBO/project/data/combined_dataset/signatures/original_50_17.png\nTo : /storage/Study/DBO/project/data/combined_dataset/signatures/genuine/50/17.png\n/storage/Study/DBO/project/data/combined_dataset/signatures/genuine/1111150\nMove : /storage/Study/DBO/project/data/combined_dataset/signatures/original_50_18.png\nTo : /storage/Study/DBO/project/data/combined_dataset/signatures/genuine/50/18.png\n/storage/Study/DBO/project/data/combined_dataset/signatures/genuine/1111150\nMove : /storage/Study/DBO/project/data/combined_dataset/signatures/original_3_6.png\nTo : /storage/Study/DBO/project/data/combined_dataset/signatures/genuine/3/6.png\n/storage/Study/DBO/project/data/combined_dataset/signatures/genuine/111113\nMove : /storage/Study/DBO/project/data/combined_dataset/signatures/original_3_7.png\nTo : /storage/Study/DBO/project/data/combined_dataset/signatures/genuine/3/7.png\n/storage/Study/DBO/project/data/combined_dataset/signatures/genuine/111113\nMove : /storage/Study/DBO/project/data/combined_dataset/signatures/original_3_8.png\nTo : /storage/Study/DBO/project/data/combined_dataset/signatures/genuine/3/8.png\n/storage/Study/DBO/project/data/combined_dataset/signatures/genuine/111113\nMove : /storage/Study/DBO/project/data/combined_dataset/signatures/original_3_9.png\nTo : /storage/Study/DBO/project/data/combined_dataset/signatures/genuine/3/9.png\n/storage/Study/DBO/project/data/combined_dataset/signatures/genuine/111113\nMove : /storage/Study/DBO/project/data/combined_dataset/signatures/original_40_1.png\nTo : /storage/Study/DBO/project/data/combined_dataset/signatures/genuine/40/1.png\n/storage/Study/DBO/project/data/combined_dataset/signatures/genuine/1111140\nMove : /storage/Study/DBO/project/data/combined_dataset/signatures/original_40_10.png\nTo : /storage/Study/DBO/project/data/combined_dataset/signatures/genuine/40/10.png\n/storage/Study/DBO/project/data/combined_dataset/signatures/genuine/1111140\nMove : /storage/Study/DBO/project/data/combined_dataset/signatures/original_40_11.png\nTo : /storage/Study/DBO/project/data/combined_dataset/signatures/genuine/40/11.png\n/storage/Study/DBO/project/data/combined_dataset/signatures/genuine/1111140\nMove : /storage/Study/DBO/project/data/combined_dataset/signatures/original_40_12.png\nTo : /storage/Study/DBO/project/data/combined_dataset/signatures/genuine/40/12.png\n/storage/Study/DBO/project/data/combined_dataset/signatures/genuine/1111140\nMove : /storage/Study/DBO/project/data/combined_dataset/signatures/original_40_13.png\nTo : /storage/Study/DBO/project/data/combined_dataset/signatures/genuine/40/13.png\n/storage/Study/DBO/project/data/combined_dataset/signatures/genuine/1111140\nMove : /storage/Study/DBO/project/data/combined_dataset/signatures/original_40_14.png\nTo : /storage/Study/DBO/project/data/combined_dataset/signatures/genuine/40/14.png\n/storage/Study/DBO/project/data/combined_dataset/signatures/genuine/1111140\nMove : /storage/Study/DBO/project/data/combined_dataset/signatures/original_40_15.png\nTo : /storage/Study/DBO/project/data/combined_dataset/signatures/genuine/40/15.png\n/storage/Study/DBO/project/data/combined_dataset/signatures/genuine/1111140\nMove : /storage/Study/DBO/project/data/combined_dataset/signatures/original_40_16.png\nTo : /storage/Study/DBO/project/data/combined_dataset/signatures/genuine/40/16.png\n/storage/Study/DBO/project/data/combined_dataset/signatures/genuine/1111140\nMove : /storage/Study/DBO/project/data/combined_dataset/signatures/original_40_17.png\nTo : /storage/Study/DBO/project/data/combined_dataset/signatures/genuine/40/17.png\n/storage/Study/DBO/project/data/combined_dataset/signatures/genuine/1111140\nMove : /storage/Study/DBO/project/data/combined_dataset/signatures/original_40_18.png\nTo : /storage/Study/DBO/project/data/combined_dataset/signatures/genuine/40/18.png\n/storage/Study/DBO/project/data/combined_dataset/signatures/genuine/1111140\nMove : /storage/Study/DBO/project/data/combined_dataset/signatures/original_40_19.png\nTo : /storage/Study/DBO/project/data/combined_dataset/signatures/genuine/40/19.png\n/storage/Study/DBO/project/data/combined_dataset/signatures/genuine/1111140\nMove : /storage/Study/DBO/project/data/combined_dataset/signatures/original_40_2.png\nTo : /storage/Study/DBO/project/data/combined_dataset/signatures/genuine/40/2.png\n/storage/Study/DBO/project/data/combined_dataset/signatures/genuine/1111140\nMove : /storage/Study/DBO/project/data/combined_dataset/signatures/original_2_8.png\nTo : /storage/Study/DBO/project/data/combined_dataset/signatures/genuine/2/8.png\n/storage/Study/DBO/project/data/combined_dataset/signatures/genuine/111112\nMove : /storage/Study/DBO/project/data/combined_dataset/signatures/original_2_9.png\nTo : /storage/Study/DBO/project/data/combined_dataset/signatures/genuine/2/9.png\n/storage/Study/DBO/project/data/combined_dataset/signatures/genuine/111112\nMove : /storage/Study/DBO/project/data/combined_dataset/signatures/original_30_1.png\nTo : /storage/Study/DBO/project/data/combined_dataset/signatures/genuine/30/1.png\n/storage/Study/DBO/project/data/combined_dataset/signatures/genuine/1111130\nMove : /storage/Study/DBO/project/data/combined_dataset/signatures/original_30_10.png\nTo : /storage/Study/DBO/project/data/combined_dataset/signatures/genuine/30/10.png\n/storage/Study/DBO/project/data/combined_dataset/signatures/genuine/1111130\nMove : /storage/Study/DBO/project/data/combined_dataset/signatures/original_30_11.png\nTo : /storage/Study/DBO/project/data/combined_dataset/signatures/genuine/30/11.png\n/storage/Study/DBO/project/data/combined_dataset/signatures/genuine/1111130\nMove : /storage/Study/DBO/project/data/combined_dataset/signatures/original_30_12.png\nTo : /storage/Study/DBO/project/data/combined_dataset/signatures/genuine/30/12.png\n/storage/Study/DBO/project/data/combined_dataset/signatures/genuine/1111130\nMove : /storage/Study/DBO/project/data/combined_dataset/signatures/original_30_13.png\nTo : /storage/Study/DBO/project/data/combined_dataset/signatures/genuine/30/13.png\n/storage/Study/DBO/project/data/combined_dataset/signatures/genuine/1111130\nMove : /storage/Study/DBO/project/data/combined_dataset/signatures/original_30_14.png\nTo : /storage/Study/DBO/project/data/combined_dataset/signatures/genuine/30/14.png\n/storage/Study/DBO/project/data/combined_dataset/signatures/genuine/1111130\nMove : /storage/Study/DBO/project/data/combined_dataset/signatures/original_30_15.png\nTo : /storage/Study/DBO/project/data/combined_dataset/signatures/genuine/30/15.png\n/storage/Study/DBO/project/data/combined_dataset/signatures/genuine/1111130\nMove : /storage/Study/DBO/project/data/combined_dataset/signatures/original_30_16.png\nTo : /storage/Study/DBO/project/data/combined_dataset/signatures/genuine/30/16.png\n/storage/Study/DBO/project/data/combined_dataset/signatures/genuine/1111130\nMove : /storage/Study/DBO/project/data/combined_dataset/signatures/original_30_17.png\nTo : /storage/Study/DBO/project/data/combined_dataset/signatures/genuine/30/17.png\n/storage/Study/DBO/project/data/combined_dataset/signatures/genuine/1111130\nMove : /storage/Study/DBO/project/data/combined_dataset/signatures/original_30_18.png\nTo : /storage/Study/DBO/project/data/combined_dataset/signatures/genuine/30/18.png\n/storage/Study/DBO/project/data/combined_dataset/signatures/genuine/1111130\nMove : /storage/Study/DBO/project/data/combined_dataset/signatures/original_30_19.png\nTo : /storage/Study/DBO/project/data/combined_dataset/signatures/genuine/30/19.png\n/storage/Study/DBO/project/data/combined_dataset/signatures/genuine/1111130\nMove : /storage/Study/DBO/project/data/combined_dataset/signatures/original_30_2.png\nTo : /storage/Study/DBO/project/data/combined_dataset/signatures/genuine/30/2.png\n/storage/Study/DBO/project/data/combined_dataset/signatures/genuine/1111130\nMove : /storage/Study/DBO/project/data/combined_dataset/signatures/original_30_20.png\nTo : /storage/Study/DBO/project/data/combined_dataset/signatures/genuine/30/20.png\n/storage/Study/DBO/project/data/combined_dataset/signatures/genuine/1111130\nMove : /storage/Study/DBO/project/data/combined_dataset/signatures/original_30_21.png\nTo : /storage/Study/DBO/project/data/combined_dataset/signatures/genuine/30/21.png\n/storage/Study/DBO/project/data/combined_dataset/signatures/genuine/1111130\nMove : /storage/Study/DBO/project/data/combined_dataset/signatures/original_20_1.png\nTo : /storage/Study/DBO/project/data/combined_dataset/signatures/genuine/20/1.png\n/storage/Study/DBO/project/data/combined_dataset/signatures/genuine/1111120\nMove : /storage/Study/DBO/project/data/combined_dataset/signatures/original_20_10.png\nTo : /storage/Study/DBO/project/data/combined_dataset/signatures/genuine/20/10.png\n/storage/Study/DBO/project/data/combined_dataset/signatures/genuine/1111120\nMove : /storage/Study/DBO/project/data/combined_dataset/signatures/original_20_11.png\nTo : /storage/Study/DBO/project/data/combined_dataset/signatures/genuine/20/11.png\n/storage/Study/DBO/project/data/combined_dataset/signatures/genuine/1111120\nMove : /storage/Study/DBO/project/data/combined_dataset/signatures/original_20_12.png\nTo : /storage/Study/DBO/project/data/combined_dataset/signatures/genuine/20/12.png\n/storage/Study/DBO/project/data/combined_dataset/signatures/genuine/1111120\nMove : /storage/Study/DBO/project/data/combined_dataset/signatures/original_20_13.png\nTo : /storage/Study/DBO/project/data/combined_dataset/signatures/genuine/20/13.png\n/storage/Study/DBO/project/data/combined_dataset/signatures/genuine/1111120\nMove : /storage/Study/DBO/project/data/combined_dataset/signatures/original_20_14.png\nTo : /storage/Study/DBO/project/data/combined_dataset/signatures/genuine/20/14.png\n/storage/Study/DBO/project/data/combined_dataset/signatures/genuine/1111120\nMove : /storage/Study/DBO/project/data/combined_dataset/signatures/original_20_15.png\nTo : /storage/Study/DBO/project/data/combined_dataset/signatures/genuine/20/15.png\n/storage/Study/DBO/project/data/combined_dataset/signatures/genuine/1111120\nMove : /storage/Study/DBO/project/data/combined_dataset/signatures/original_20_16.png\nTo : /storage/Study/DBO/project/data/combined_dataset/signatures/genuine/20/16.png\n/storage/Study/DBO/project/data/combined_dataset/signatures/genuine/1111120\nMove : /storage/Study/DBO/project/data/combined_dataset/signatures/original_20_17.png\nTo : /storage/Study/DBO/project/data/combined_dataset/signatures/genuine/20/17.png\n/storage/Study/DBO/project/data/combined_dataset/signatures/genuine/1111120\nMove : /storage/Study/DBO/project/data/combined_dataset/signatures/original_20_18.png\nTo : /storage/Study/DBO/project/data/combined_dataset/signatures/genuine/20/18.png\n/storage/Study/DBO/project/data/combined_dataset/signatures/genuine/1111120\nMove : /storage/Study/DBO/project/data/combined_dataset/signatures/original_20_19.png\nTo : /storage/Study/DBO/project/data/combined_dataset/signatures/genuine/20/19.png\n/storage/Study/DBO/project/data/combined_dataset/signatures/genuine/1111120\nMove : /storage/Study/DBO/project/data/combined_dataset/signatures/original_20_2.png\nTo : /storage/Study/DBO/project/data/combined_dataset/signatures/genuine/20/2.png\n/storage/Study/DBO/project/data/combined_dataset/signatures/genuine/1111120\nMove : /storage/Study/DBO/project/data/combined_dataset/signatures/original_20_20.png\nTo : /storage/Study/DBO/project/data/combined_dataset/signatures/genuine/20/20.png\n/storage/Study/DBO/project/data/combined_dataset/signatures/genuine/1111120\nMove : /storage/Study/DBO/project/data/combined_dataset/signatures/original_20_21.png\nTo : /storage/Study/DBO/project/data/combined_dataset/signatures/genuine/20/21.png\n/storage/Study/DBO/project/data/combined_dataset/signatures/genuine/1111120\nMove : /storage/Study/DBO/project/data/combined_dataset/signatures/original_20_22.png\nTo : /storage/Study/DBO/project/data/combined_dataset/signatures/genuine/20/22.png\n/storage/Study/DBO/project/data/combined_dataset/signatures/genuine/1111120\nMove : /storage/Study/DBO/project/data/combined_dataset/signatures/original_20_23.png\nTo : /storage/Study/DBO/project/data/combined_dataset/signatures/genuine/20/23.png\n/storage/Study/DBO/project/data/combined_dataset/signatures/genuine/1111120\n"
    }
   ],
   "source": [
    "for root, dirs, files in os.walk(base_path):\n",
    "    for i in files:\n",
    "        filepath = os.path.join(base_path, i)\n",
    "        if i.split(\"_\")[0] == 'forgeries':\n",
    "\n",
    "            namelist = i.split(\"_\")[1:]\n",
    "            namelist[0] = \"11111\"+namelist[0] + \"_forg\"\n",
    "            print(\"Move :\", filepath)\n",
    "            print(\"To :\", os.path.join(forged_dir, *namelist))\n",
    "            \n",
    "            print(os.path.join(forged_dir, namelist[0]))\n",
    "\n",
    "            try:\n",
    "                os.mkdir(os.path.join(forged_dir, namelist[0]))\n",
    "            except:\n",
    "                pass\n",
    "            shutil.move(filepath, os.path.join(forged_dir, *namelist))\n",
    "\n",
    "        elif i.split(\"_\")[0] == 'original':\n",
    "            # pass\n",
    "            print(\"Move :\", filepath)\n",
    "            print(\"To :\", os.path.join(genuine_dir, *i.split(\"_\")[1:]))\n",
    "            namelist = i.split(\"_\")[1:]\n",
    "            namelist[0] = \"11111\"+namelist[0]\n",
    "\n",
    "            print(os.path.join(genuine_dir, namelist[0]))\n",
    "\n",
    "            try:\n",
    "                os.mkdir(os.path.join(genuine_dir, namelist[0]))\n",
    "            except:\n",
    "                pass\n",
    "\n",
    "            shutil.move(filepath, os.path.join(genuine_dir, *namelist))\n",
    "\n",
    "        # print(i.split(\"_\")[0])\n",
    "\n",
    "\n",
    "        # print(os.path.join(combined_dir, i))\n",
    "        # print(os.path.join(combined_dir, \"00\"+i.split('_')[0][-7:-4]+'_forg'))"
   ]
  },
  {
   "cell_type": "code",
   "execution_count": null,
   "metadata": {},
   "outputs": [],
   "source": []
  },
  {
   "cell_type": "code",
   "execution_count": null,
   "metadata": {},
   "outputs": [],
   "source": []
  },
  {
   "cell_type": "code",
   "execution_count": 116,
   "metadata": {},
   "outputs": [],
   "source": [
    "base_path = '/storage/Study/DBO/project/data/combined_dataset/NISDCC-offline-all-001-051-6g/'\n",
    "forged_dir = os.path.join(base_path,'forged')\n",
    "genuine_dir = os.path.join(base_path,'genuine')\n",
    "combined_dir = os.path.join(base_path,'combined')"
   ]
  },
  {
   "cell_type": "code",
   "execution_count": 128,
   "metadata": {
    "tags": [
     "outputPrepend"
    ]
   },
   "outputs": [
    {
     "output_type": "stream",
     "name": "stdout",
     "text": "_002_6g.PNG\nFrom:  /storage/Study/DBO/project/data/combined_dataset/NISDCC-offline-all-001-051-6g/NISDCC-050_007_003_6g.PNG\nTo:  /storage/Study/DBO/project/data/combined_dataset/NISDCC-offline-all-001-051-6g/forged/007_forg/NISDCC-050_007_003_6g.PNG\nFrom:  /storage/Study/DBO/project/data/combined_dataset/NISDCC-offline-all-001-051-6g/NISDCC-050_007_004_6g.PNG\nTo:  /storage/Study/DBO/project/data/combined_dataset/NISDCC-offline-all-001-051-6g/forged/007_forg/NISDCC-050_007_004_6g.PNG\nFrom:  /storage/Study/DBO/project/data/combined_dataset/NISDCC-offline-all-001-051-6g/NISDCC-050_008_001_6g.PNG\nTo:  /storage/Study/DBO/project/data/combined_dataset/NISDCC-offline-all-001-051-6g/forged/008_forg/NISDCC-050_008_001_6g.PNG\nFrom:  /storage/Study/DBO/project/data/combined_dataset/NISDCC-offline-all-001-051-6g/NISDCC-050_008_002_6g.PNG\nTo:  /storage/Study/DBO/project/data/combined_dataset/NISDCC-offline-all-001-051-6g/forged/008_forg/NISDCC-050_008_002_6g.PNG\nFrom:  /storage/Study/DBO/project/data/combined_dataset/NISDCC-offline-all-001-051-6g/NISDCC-050_008_003_6g.PNG\nTo:  /storage/Study/DBO/project/data/combined_dataset/NISDCC-offline-all-001-051-6g/forged/008_forg/NISDCC-050_008_003_6g.PNG\nFrom:  /storage/Study/DBO/project/data/combined_dataset/NISDCC-offline-all-001-051-6g/NISDCC-050_008_004_6g.PNG\nTo:  /storage/Study/DBO/project/data/combined_dataset/NISDCC-offline-all-001-051-6g/forged/008_forg/NISDCC-050_008_004_6g.PNG\nFrom:  /storage/Study/DBO/project/data/combined_dataset/NISDCC-offline-all-001-051-6g/NISDCC-050_008_005_6g.PNG\nTo:  /storage/Study/DBO/project/data/combined_dataset/NISDCC-offline-all-001-051-6g/forged/008_forg/NISDCC-050_008_005_6g.PNG\nFrom:  /storage/Study/DBO/project/data/combined_dataset/NISDCC-offline-all-001-051-6g/NISDCC-050_009_001_6g.PNG\nTo:  /storage/Study/DBO/project/data/combined_dataset/NISDCC-offline-all-001-051-6g/forged/009_forg/NISDCC-050_009_001_6g.PNG\nFrom:  /storage/Study/DBO/project/data/combined_dataset/NISDCC-offline-all-001-051-6g/NISDCC-050_009_002_6g.PNG\nTo:  /storage/Study/DBO/project/data/combined_dataset/NISDCC-offline-all-001-051-6g/forged/009_forg/NISDCC-050_009_002_6g.PNG\nFrom:  /storage/Study/DBO/project/data/combined_dataset/NISDCC-offline-all-001-051-6g/NISDCC-050_009_003_6g.PNG\nTo:  /storage/Study/DBO/project/data/combined_dataset/NISDCC-offline-all-001-051-6g/forged/009_forg/NISDCC-050_009_003_6g.PNG\nFrom:  /storage/Study/DBO/project/data/combined_dataset/NISDCC-offline-all-001-051-6g/NISDCC-050_009_004_6g.PNG\nTo:  /storage/Study/DBO/project/data/combined_dataset/NISDCC-offline-all-001-051-6g/forged/009_forg/NISDCC-050_009_004_6g.PNG\nFrom:  /storage/Study/DBO/project/data/combined_dataset/NISDCC-offline-all-001-051-6g/NISDCC-050_009_005_6g.PNG\nTo:  /storage/Study/DBO/project/data/combined_dataset/NISDCC-offline-all-001-051-6g/forged/009_forg/NISDCC-050_009_005_6g.PNG\nFrom:  /storage/Study/DBO/project/data/combined_dataset/NISDCC-offline-all-001-051-6g/NISDCC-050_010_001_6g.PNG\nTo:  /storage/Study/DBO/project/data/combined_dataset/NISDCC-offline-all-001-051-6g/forged/010_forg/NISDCC-050_010_001_6g.PNG\nFrom:  /storage/Study/DBO/project/data/combined_dataset/NISDCC-offline-all-001-051-6g/NISDCC-050_010_002_6g.PNG\nTo:  /storage/Study/DBO/project/data/combined_dataset/NISDCC-offline-all-001-051-6g/forged/010_forg/NISDCC-050_010_002_6g.PNG\nFrom:  /storage/Study/DBO/project/data/combined_dataset/NISDCC-offline-all-001-051-6g/NISDCC-050_010_003_6g.PNG\nTo:  /storage/Study/DBO/project/data/combined_dataset/NISDCC-offline-all-001-051-6g/forged/010_forg/NISDCC-050_010_003_6g.PNG\nFrom:  /storage/Study/DBO/project/data/combined_dataset/NISDCC-offline-all-001-051-6g/NISDCC-050_010_004_6g.PNG\nTo:  /storage/Study/DBO/project/data/combined_dataset/NISDCC-offline-all-001-051-6g/forged/010_forg/NISDCC-050_010_004_6g.PNG\nFrom:  /storage/Study/DBO/project/data/combined_dataset/NISDCC-offline-all-001-051-6g/NISDCC-050_011_001_6g.PNG\nTo:  /storage/Study/DBO/project/data/combined_dataset/NISDCC-offline-all-001-051-6g/forged/011_forg/NISDCC-050_011_001_6g.PNG\nFrom:  /storage/Study/DBO/project/data/combined_dataset/NISDCC-offline-all-001-051-6g/NISDCC-050_011_002_6g.PNG\nTo:  /storage/Study/DBO/project/data/combined_dataset/NISDCC-offline-all-001-051-6g/forged/011_forg/NISDCC-050_011_002_6g.PNG\nFrom:  /storage/Study/DBO/project/data/combined_dataset/NISDCC-offline-all-001-051-6g/NISDCC-050_011_003_6g.PNG\nTo:  /storage/Study/DBO/project/data/combined_dataset/NISDCC-offline-all-001-051-6g/forged/011_forg/NISDCC-050_011_003_6g.PNG\nFrom:  /storage/Study/DBO/project/data/combined_dataset/NISDCC-offline-all-001-051-6g/NISDCC-050_011_004_6g.PNG\nTo:  /storage/Study/DBO/project/data/combined_dataset/NISDCC-offline-all-001-051-6g/forged/011_forg/NISDCC-050_011_004_6g.PNG\nFrom:  /storage/Study/DBO/project/data/combined_dataset/NISDCC-offline-all-001-051-6g/NISDCC-050_011_005_6g.PNG\nTo:  /storage/Study/DBO/project/data/combined_dataset/NISDCC-offline-all-001-051-6g/forged/011_forg/NISDCC-050_011_005_6g.PNG\nFrom:  /storage/Study/DBO/project/data/combined_dataset/NISDCC-offline-all-001-051-6g/NISDCC-050_012_001_6g.PNG\nTo:  /storage/Study/DBO/project/data/combined_dataset/NISDCC-offline-all-001-051-6g/forged/012_forg/NISDCC-050_012_001_6g.PNG\nFrom:  /storage/Study/DBO/project/data/combined_dataset/NISDCC-offline-all-001-051-6g/NISDCC-050_012_002_6g.PNG\nTo:  /storage/Study/DBO/project/data/combined_dataset/NISDCC-offline-all-001-051-6g/forged/012_forg/NISDCC-050_012_002_6g.PNG\nFrom:  /storage/Study/DBO/project/data/combined_dataset/NISDCC-offline-all-001-051-6g/NISDCC-050_012_003_6g.PNG\nTo:  /storage/Study/DBO/project/data/combined_dataset/NISDCC-offline-all-001-051-6g/forged/012_forg/NISDCC-050_012_003_6g.PNG\nFrom:  /storage/Study/DBO/project/data/combined_dataset/NISDCC-offline-all-001-051-6g/NISDCC-050_012_004_6g.PNG\nTo:  /storage/Study/DBO/project/data/combined_dataset/NISDCC-offline-all-001-051-6g/forged/012_forg/NISDCC-050_012_004_6g.PNG\nFrom:  /storage/Study/DBO/project/data/combined_dataset/NISDCC-offline-all-001-051-6g/NISDCC-050_012_005_6g.PNG\nTo:  /storage/Study/DBO/project/data/combined_dataset/NISDCC-offline-all-001-051-6g/forged/012_forg/NISDCC-050_012_005_6g.PNG\nFrom:  /storage/Study/DBO/project/data/combined_dataset/NISDCC-offline-all-001-051-6g/NISDCC-051_001_001_6g.PNG\nTo:  /storage/Study/DBO/project/data/combined_dataset/NISDCC-offline-all-001-051-6g/forged/001_forg/NISDCC-051_001_001_6g.PNG\nFrom:  /storage/Study/DBO/project/data/combined_dataset/NISDCC-offline-all-001-051-6g/NISDCC-051_001_002_6g.PNG\nTo:  /storage/Study/DBO/project/data/combined_dataset/NISDCC-offline-all-001-051-6g/forged/001_forg/NISDCC-051_001_002_6g.PNG\nFrom:  /storage/Study/DBO/project/data/combined_dataset/NISDCC-offline-all-001-051-6g/NISDCC-051_001_003_6g.PNG\nTo:  /storage/Study/DBO/project/data/combined_dataset/NISDCC-offline-all-001-051-6g/forged/001_forg/NISDCC-051_001_003_6g.PNG\nFrom:  /storage/Study/DBO/project/data/combined_dataset/NISDCC-offline-all-001-051-6g/NISDCC-051_001_004_6g.PNG\nTo:  /storage/Study/DBO/project/data/combined_dataset/NISDCC-offline-all-001-051-6g/forged/001_forg/NISDCC-051_001_004_6g.PNG\nFrom:  /storage/Study/DBO/project/data/combined_dataset/NISDCC-offline-all-001-051-6g/NISDCC-051_002_001_6g.PNG\nTo:  /storage/Study/DBO/project/data/combined_dataset/NISDCC-offline-all-001-051-6g/forged/002_forg/NISDCC-051_002_001_6g.PNG\nFrom:  /storage/Study/DBO/project/data/combined_dataset/NISDCC-offline-all-001-051-6g/NISDCC-051_002_002_6g.PNG\nTo:  /storage/Study/DBO/project/data/combined_dataset/NISDCC-offline-all-001-051-6g/forged/002_forg/NISDCC-051_002_002_6g.PNG\nFrom:  /storage/Study/DBO/project/data/combined_dataset/NISDCC-offline-all-001-051-6g/NISDCC-051_002_003_6g.PNG\nTo:  /storage/Study/DBO/project/data/combined_dataset/NISDCC-offline-all-001-051-6g/forged/002_forg/NISDCC-051_002_003_6g.PNG\nFrom:  /storage/Study/DBO/project/data/combined_dataset/NISDCC-offline-all-001-051-6g/NISDCC-051_002_004_6g.PNG\nTo:  /storage/Study/DBO/project/data/combined_dataset/NISDCC-offline-all-001-051-6g/forged/002_forg/NISDCC-051_002_004_6g.PNG\nFrom:  /storage/Study/DBO/project/data/combined_dataset/NISDCC-offline-all-001-051-6g/NISDCC-051_002_005_6g.PNG\nTo:  /storage/Study/DBO/project/data/combined_dataset/NISDCC-offline-all-001-051-6g/forged/002_forg/NISDCC-051_002_005_6g.PNG\nFrom:  /storage/Study/DBO/project/data/combined_dataset/NISDCC-offline-all-001-051-6g/NISDCC-051_003_001_6g.PNG\nTo:  /storage/Study/DBO/project/data/combined_dataset/NISDCC-offline-all-001-051-6g/forged/003_forg/NISDCC-051_003_001_6g.PNG\nFrom:  /storage/Study/DBO/project/data/combined_dataset/NISDCC-offline-all-001-051-6g/NISDCC-051_003_002_6g.PNG\nTo:  /storage/Study/DBO/project/data/combined_dataset/NISDCC-offline-all-001-051-6g/forged/003_forg/NISDCC-051_003_002_6g.PNG\nFrom:  /storage/Study/DBO/project/data/combined_dataset/NISDCC-offline-all-001-051-6g/NISDCC-051_003_003_6g.PNG\nTo:  /storage/Study/DBO/project/data/combined_dataset/NISDCC-offline-all-001-051-6g/forged/003_forg/NISDCC-051_003_003_6g.PNG\nFrom:  /storage/Study/DBO/project/data/combined_dataset/NISDCC-offline-all-001-051-6g/NISDCC-051_003_004_6g.PNG\nTo:  /storage/Study/DBO/project/data/combined_dataset/NISDCC-offline-all-001-051-6g/forged/003_forg/NISDCC-051_003_004_6g.PNG\nFrom:  /storage/Study/DBO/project/data/combined_dataset/NISDCC-offline-all-001-051-6g/NISDCC-051_003_005_6g.PNG\nTo:  /storage/Study/DBO/project/data/combined_dataset/NISDCC-offline-all-001-051-6g/forged/003_forg/NISDCC-051_003_005_6g.PNG\nFrom:  /storage/Study/DBO/project/data/combined_dataset/NISDCC-offline-all-001-051-6g/NISDCC-051_004_001_6g.PNG\nTo:  /storage/Study/DBO/project/data/combined_dataset/NISDCC-offline-all-001-051-6g/forged/004_forg/NISDCC-051_004_001_6g.PNG\nFrom:  /storage/Study/DBO/project/data/combined_dataset/NISDCC-offline-all-001-051-6g/NISDCC-051_004_002_6g.PNG\nTo:  /storage/Study/DBO/project/data/combined_dataset/NISDCC-offline-all-001-051-6g/forged/004_forg/NISDCC-051_004_002_6g.PNG\nFrom:  /storage/Study/DBO/project/data/combined_dataset/NISDCC-offline-all-001-051-6g/NISDCC-051_004_003_6g.PNG\nTo:  /storage/Study/DBO/project/data/combined_dataset/NISDCC-offline-all-001-051-6g/forged/004_forg/NISDCC-051_004_003_6g.PNG\nFrom:  /storage/Study/DBO/project/data/combined_dataset/NISDCC-offline-all-001-051-6g/NISDCC-051_004_004_6g.PNG\nTo:  /storage/Study/DBO/project/data/combined_dataset/NISDCC-offline-all-001-051-6g/forged/004_forg/NISDCC-051_004_004_6g.PNG\nFrom:  /storage/Study/DBO/project/data/combined_dataset/NISDCC-offline-all-001-051-6g/NISDCC-051_005_001_6g.PNG\nTo:  /storage/Study/DBO/project/data/combined_dataset/NISDCC-offline-all-001-051-6g/forged/005_forg/NISDCC-051_005_001_6g.PNG\nFrom:  /storage/Study/DBO/project/data/combined_dataset/NISDCC-offline-all-001-051-6g/NISDCC-051_005_002_6g.PNG\nTo:  /storage/Study/DBO/project/data/combined_dataset/NISDCC-offline-all-001-051-6g/forged/005_forg/NISDCC-051_005_002_6g.PNG\nFrom:  /storage/Study/DBO/project/data/combined_dataset/NISDCC-offline-all-001-051-6g/NISDCC-051_005_003_6g.PNG\nTo:  /storage/Study/DBO/project/data/combined_dataset/NISDCC-offline-all-001-051-6g/forged/005_forg/NISDCC-051_005_003_6g.PNG\nFrom:  /storage/Study/DBO/project/data/combined_dataset/NISDCC-offline-all-001-051-6g/NISDCC-051_005_004_6g.PNG\nTo:  /storage/Study/DBO/project/data/combined_dataset/NISDCC-offline-all-001-051-6g/forged/005_forg/NISDCC-051_005_004_6g.PNG\nFrom:  /storage/Study/DBO/project/data/combined_dataset/NISDCC-offline-all-001-051-6g/NISDCC-051_005_005_6g.PNG\nTo:  /storage/Study/DBO/project/data/combined_dataset/NISDCC-offline-all-001-051-6g/forged/005_forg/NISDCC-051_005_005_6g.PNG\nFrom:  /storage/Study/DBO/project/data/combined_dataset/NISDCC-offline-all-001-051-6g/NISDCC-051_006_001_6g.PNG\nTo:  /storage/Study/DBO/project/data/combined_dataset/NISDCC-offline-all-001-051-6g/forged/006_forg/NISDCC-051_006_001_6g.PNG\nFrom:  /storage/Study/DBO/project/data/combined_dataset/NISDCC-offline-all-001-051-6g/NISDCC-051_006_002_6g.PNG\nTo:  /storage/Study/DBO/project/data/combined_dataset/NISDCC-offline-all-001-051-6g/forged/006_forg/NISDCC-051_006_002_6g.PNG\nFrom:  /storage/Study/DBO/project/data/combined_dataset/NISDCC-offline-all-001-051-6g/NISDCC-051_006_003_6g.PNG\nTo:  /storage/Study/DBO/project/data/combined_dataset/NISDCC-offline-all-001-051-6g/forged/006_forg/NISDCC-051_006_003_6g.PNG\nFrom:  /storage/Study/DBO/project/data/combined_dataset/NISDCC-offline-all-001-051-6g/NISDCC-051_006_004_6g.PNG\nTo:  /storage/Study/DBO/project/data/combined_dataset/NISDCC-offline-all-001-051-6g/forged/006_forg/NISDCC-051_006_004_6g.PNG\nFrom:  /storage/Study/DBO/project/data/combined_dataset/NISDCC-offline-all-001-051-6g/NISDCC-051_006_005_6g.PNG\nTo:  /storage/Study/DBO/project/data/combined_dataset/NISDCC-offline-all-001-051-6g/forged/006_forg/NISDCC-051_006_005_6g.PNG\nFrom:  /storage/Study/DBO/project/data/combined_dataset/NISDCC-offline-all-001-051-6g/NISDCC-051_007_001_6g.PNG\nTo:  /storage/Study/DBO/project/data/combined_dataset/NISDCC-offline-all-001-051-6g/forged/007_forg/NISDCC-051_007_001_6g.PNG\nFrom:  /storage/Study/DBO/project/data/combined_dataset/NISDCC-offline-all-001-051-6g/NISDCC-051_007_002_6g.PNG\nTo:  /storage/Study/DBO/project/data/combined_dataset/NISDCC-offline-all-001-051-6g/forged/007_forg/NISDCC-051_007_002_6g.PNG\nFrom:  /storage/Study/DBO/project/data/combined_dataset/NISDCC-offline-all-001-051-6g/NISDCC-051_007_003_6g.PNG\nTo:  /storage/Study/DBO/project/data/combined_dataset/NISDCC-offline-all-001-051-6g/forged/007_forg/NISDCC-051_007_003_6g.PNG\nFrom:  /storage/Study/DBO/project/data/combined_dataset/NISDCC-offline-all-001-051-6g/NISDCC-051_007_004_6g.PNG\nTo:  /storage/Study/DBO/project/data/combined_dataset/NISDCC-offline-all-001-051-6g/forged/007_forg/NISDCC-051_007_004_6g.PNG\nFrom:  /storage/Study/DBO/project/data/combined_dataset/NISDCC-offline-all-001-051-6g/NISDCC-051_008_001_6g.PNG\nTo:  /storage/Study/DBO/project/data/combined_dataset/NISDCC-offline-all-001-051-6g/forged/008_forg/NISDCC-051_008_001_6g.PNG\nFrom:  /storage/Study/DBO/project/data/combined_dataset/NISDCC-offline-all-001-051-6g/NISDCC-051_008_002_6g.PNG\nTo:  /storage/Study/DBO/project/data/combined_dataset/NISDCC-offline-all-001-051-6g/forged/008_forg/NISDCC-051_008_002_6g.PNG\nFrom:  /storage/Study/DBO/project/data/combined_dataset/NISDCC-offline-all-001-051-6g/NISDCC-051_008_003_6g.PNG\nTo:  /storage/Study/DBO/project/data/combined_dataset/NISDCC-offline-all-001-051-6g/forged/008_forg/NISDCC-051_008_003_6g.PNG\nFrom:  /storage/Study/DBO/project/data/combined_dataset/NISDCC-offline-all-001-051-6g/NISDCC-051_008_004_6g.PNG\nTo:  /storage/Study/DBO/project/data/combined_dataset/NISDCC-offline-all-001-051-6g/forged/008_forg/NISDCC-051_008_004_6g.PNG\nFrom:  /storage/Study/DBO/project/data/combined_dataset/NISDCC-offline-all-001-051-6g/NISDCC-051_008_005_6g.PNG\nTo:  /storage/Study/DBO/project/data/combined_dataset/NISDCC-offline-all-001-051-6g/forged/008_forg/NISDCC-051_008_005_6g.PNG\nFrom:  /storage/Study/DBO/project/data/combined_dataset/NISDCC-offline-all-001-051-6g/NISDCC-051_009_001_6g.PNG\nTo:  /storage/Study/DBO/project/data/combined_dataset/NISDCC-offline-all-001-051-6g/forged/009_forg/NISDCC-051_009_001_6g.PNG\nFrom:  /storage/Study/DBO/project/data/combined_dataset/NISDCC-offline-all-001-051-6g/NISDCC-051_009_002_6g.PNG\nTo:  /storage/Study/DBO/project/data/combined_dataset/NISDCC-offline-all-001-051-6g/forged/009_forg/NISDCC-051_009_002_6g.PNG\nFrom:  /storage/Study/DBO/project/data/combined_dataset/NISDCC-offline-all-001-051-6g/NISDCC-051_009_003_6g.PNG\nTo:  /storage/Study/DBO/project/data/combined_dataset/NISDCC-offline-all-001-051-6g/forged/009_forg/NISDCC-051_009_003_6g.PNG\nFrom:  /storage/Study/DBO/project/data/combined_dataset/NISDCC-offline-all-001-051-6g/NISDCC-051_009_004_6g.PNG\nTo:  /storage/Study/DBO/project/data/combined_dataset/NISDCC-offline-all-001-051-6g/forged/009_forg/NISDCC-051_009_004_6g.PNG\nFrom:  /storage/Study/DBO/project/data/combined_dataset/NISDCC-offline-all-001-051-6g/NISDCC-051_009_005_6g.PNG\nTo:  /storage/Study/DBO/project/data/combined_dataset/NISDCC-offline-all-001-051-6g/forged/009_forg/NISDCC-051_009_005_6g.PNG\nFrom:  /storage/Study/DBO/project/data/combined_dataset/NISDCC-offline-all-001-051-6g/NISDCC-051_010_001_6g.PNG\nTo:  /storage/Study/DBO/project/data/combined_dataset/NISDCC-offline-all-001-051-6g/forged/010_forg/NISDCC-051_010_001_6g.PNG\nFrom:  /storage/Study/DBO/project/data/combined_dataset/NISDCC-offline-all-001-051-6g/NISDCC-051_010_002_6g.PNG\nTo:  /storage/Study/DBO/project/data/combined_dataset/NISDCC-offline-all-001-051-6g/forged/010_forg/NISDCC-051_010_002_6g.PNG\nFrom:  /storage/Study/DBO/project/data/combined_dataset/NISDCC-offline-all-001-051-6g/NISDCC-051_010_003_6g.PNG\nTo:  /storage/Study/DBO/project/data/combined_dataset/NISDCC-offline-all-001-051-6g/forged/010_forg/NISDCC-051_010_003_6g.PNG\nFrom:  /storage/Study/DBO/project/data/combined_dataset/NISDCC-offline-all-001-051-6g/NISDCC-051_010_004_6g.PNG\nTo:  /storage/Study/DBO/project/data/combined_dataset/NISDCC-offline-all-001-051-6g/forged/010_forg/NISDCC-051_010_004_6g.PNG\nFrom:  /storage/Study/DBO/project/data/combined_dataset/NISDCC-offline-all-001-051-6g/NISDCC-051_010_005_6g.PNG\nTo:  /storage/Study/DBO/project/data/combined_dataset/NISDCC-offline-all-001-051-6g/forged/010_forg/NISDCC-051_010_005_6g.PNG\nFrom:  /storage/Study/DBO/project/data/combined_dataset/NISDCC-offline-all-001-051-6g/NISDCC-051_011_001_6g.PNG\nTo:  /storage/Study/DBO/project/data/combined_dataset/NISDCC-offline-all-001-051-6g/forged/011_forg/NISDCC-051_011_001_6g.PNG\nFrom:  /storage/Study/DBO/project/data/combined_dataset/NISDCC-offline-all-001-051-6g/NISDCC-051_011_002_6g.PNG\nTo:  /storage/Study/DBO/project/data/combined_dataset/NISDCC-offline-all-001-051-6g/forged/011_forg/NISDCC-051_011_002_6g.PNG\nFrom:  /storage/Study/DBO/project/data/combined_dataset/NISDCC-offline-all-001-051-6g/NISDCC-051_011_003_6g.PNG\nTo:  /storage/Study/DBO/project/data/combined_dataset/NISDCC-offline-all-001-051-6g/forged/011_forg/NISDCC-051_011_003_6g.PNG\nFrom:  /storage/Study/DBO/project/data/combined_dataset/NISDCC-offline-all-001-051-6g/NISDCC-051_011_004_6g.PNG\nTo:  /storage/Study/DBO/project/data/combined_dataset/NISDCC-offline-all-001-051-6g/forged/011_forg/NISDCC-051_011_004_6g.PNG\nFrom:  /storage/Study/DBO/project/data/combined_dataset/NISDCC-offline-all-001-051-6g/NISDCC-051_011_005_6g.PNG\nTo:  /storage/Study/DBO/project/data/combined_dataset/NISDCC-offline-all-001-051-6g/forged/011_forg/NISDCC-051_011_005_6g.PNG\nFrom:  /storage/Study/DBO/project/data/combined_dataset/NISDCC-offline-all-001-051-6g/NISDCC-051_012_001_6g.PNG\nTo:  /storage/Study/DBO/project/data/combined_dataset/NISDCC-offline-all-001-051-6g/forged/012_forg/NISDCC-051_012_001_6g.PNG\nFrom:  /storage/Study/DBO/project/data/combined_dataset/NISDCC-offline-all-001-051-6g/NISDCC-051_012_002_6g.PNG\nTo:  /storage/Study/DBO/project/data/combined_dataset/NISDCC-offline-all-001-051-6g/forged/012_forg/NISDCC-051_012_002_6g.PNG\nFrom:  /storage/Study/DBO/project/data/combined_dataset/NISDCC-offline-all-001-051-6g/NISDCC-051_012_003_6g.PNG\nTo:  /storage/Study/DBO/project/data/combined_dataset/NISDCC-offline-all-001-051-6g/forged/012_forg/NISDCC-051_012_003_6g.PNG\nFrom:  /storage/Study/DBO/project/data/combined_dataset/NISDCC-offline-all-001-051-6g/NISDCC-051_012_004_6g.PNG\nTo:  /storage/Study/DBO/project/data/combined_dataset/NISDCC-offline-all-001-051-6g/forged/012_forg/NISDCC-051_012_004_6g.PNG\nFrom:  /storage/Study/DBO/project/data/combined_dataset/NISDCC-offline-all-001-051-6g/NISDCC-051_012_005_6g.PNG\nTo:  /storage/Study/DBO/project/data/combined_dataset/NISDCC-offline-all-001-051-6g/forged/012_forg/NISDCC-051_012_005_6g.PNG\nFrom:  /storage/Study/DBO/project/data/combined_dataset/NISDCC-offline-all-001-051-6g/NISDCC-001_001_001_6g.PNG\nTo:  /storage/Study/DBO/project/data/combined_dataset/NISDCC-offline-all-001-051-6g/genuine/001/NISDCC-001_001_001_6g.PNG\n"
    },
    {
     "output_type": "error",
     "ename": "FileNotFoundError",
     "evalue": "[Errno 2] No such file or directory: '/storage/Study/DBO/project/data/combined_dataset/NISDCC-offline-all-001-051-6g/NISDCC-001_001_001_6g.PNG'",
     "traceback": [
      "\u001b[0;31m---------------------------------------------------------------------------\u001b[0m",
      "\u001b[0;31mFileNotFoundError\u001b[0m                         Traceback (most recent call last)",
      "\u001b[0;32m/usr/lib/python3.6/shutil.py\u001b[0m in \u001b[0;36mmove\u001b[0;34m(src, dst, copy_function)\u001b[0m\n\u001b[1;32m    549\u001b[0m     \u001b[0;32mtry\u001b[0m\u001b[0;34m:\u001b[0m\u001b[0;34m\u001b[0m\u001b[0;34m\u001b[0m\u001b[0m\n\u001b[0;32m--> 550\u001b[0;31m         \u001b[0mos\u001b[0m\u001b[0;34m.\u001b[0m\u001b[0mrename\u001b[0m\u001b[0;34m(\u001b[0m\u001b[0msrc\u001b[0m\u001b[0;34m,\u001b[0m \u001b[0mreal_dst\u001b[0m\u001b[0;34m)\u001b[0m\u001b[0;34m\u001b[0m\u001b[0;34m\u001b[0m\u001b[0m\n\u001b[0m\u001b[1;32m    551\u001b[0m     \u001b[0;32mexcept\u001b[0m \u001b[0mOSError\u001b[0m\u001b[0;34m:\u001b[0m\u001b[0;34m\u001b[0m\u001b[0;34m\u001b[0m\u001b[0m\n",
      "\u001b[0;31mFileNotFoundError\u001b[0m: [Errno 2] No such file or directory: '/storage/Study/DBO/project/data/combined_dataset/NISDCC-offline-all-001-051-6g/NISDCC-001_001_001_6g.PNG' -> '/storage/Study/DBO/project/data/combined_dataset/NISDCC-offline-all-001-051-6g/genuine/2222001/NISDCC-001_001_001_6g.PNG'",
      "\nDuring handling of the above exception, another exception occurred:\n",
      "\u001b[0;31mFileNotFoundError\u001b[0m                         Traceback (most recent call last)",
      "\u001b[0;32m<ipython-input-128-bc31ba06a727>\u001b[0m in \u001b[0;36m<module>\u001b[0;34m\u001b[0m\n\u001b[1;32m     13\u001b[0m                 \u001b[0;32mpass\u001b[0m\u001b[0;34m\u001b[0m\u001b[0;34m\u001b[0m\u001b[0m\n\u001b[1;32m     14\u001b[0m \u001b[0;34m\u001b[0m\u001b[0m\n\u001b[0;32m---> 15\u001b[0;31m             \u001b[0mshutil\u001b[0m\u001b[0;34m.\u001b[0m\u001b[0mmove\u001b[0m\u001b[0;34m(\u001b[0m\u001b[0mfilepath\u001b[0m\u001b[0;34m,\u001b[0m \u001b[0mos\u001b[0m\u001b[0;34m.\u001b[0m\u001b[0mpath\u001b[0m\u001b[0;34m.\u001b[0m\u001b[0mjoin\u001b[0m\u001b[0;34m(\u001b[0m\u001b[0mgenuine_dir\u001b[0m\u001b[0;34m,\u001b[0m\u001b[0;34m\"2222\"\u001b[0m\u001b[0;34m+\u001b[0m\u001b[0mnamesplit\u001b[0m\u001b[0;34m[\u001b[0m\u001b[0;36m1\u001b[0m\u001b[0;34m]\u001b[0m\u001b[0;34m,\u001b[0m\u001b[0mi\u001b[0m\u001b[0;34m)\u001b[0m\u001b[0;34m)\u001b[0m\u001b[0;34m\u001b[0m\u001b[0;34m\u001b[0m\u001b[0m\n\u001b[0m\u001b[1;32m     16\u001b[0m \u001b[0;34m\u001b[0m\u001b[0m\n\u001b[1;32m     17\u001b[0m         \u001b[0;32melse\u001b[0m\u001b[0;34m:\u001b[0m\u001b[0;34m\u001b[0m\u001b[0;34m\u001b[0m\u001b[0m\n",
      "\u001b[0;32m/usr/lib/python3.6/shutil.py\u001b[0m in \u001b[0;36mmove\u001b[0;34m(src, dst, copy_function)\u001b[0m\n\u001b[1;32m    562\u001b[0m             \u001b[0mrmtree\u001b[0m\u001b[0;34m(\u001b[0m\u001b[0msrc\u001b[0m\u001b[0;34m)\u001b[0m\u001b[0;34m\u001b[0m\u001b[0;34m\u001b[0m\u001b[0m\n\u001b[1;32m    563\u001b[0m         \u001b[0;32melse\u001b[0m\u001b[0;34m:\u001b[0m\u001b[0;34m\u001b[0m\u001b[0;34m\u001b[0m\u001b[0m\n\u001b[0;32m--> 564\u001b[0;31m             \u001b[0mcopy_function\u001b[0m\u001b[0;34m(\u001b[0m\u001b[0msrc\u001b[0m\u001b[0;34m,\u001b[0m \u001b[0mreal_dst\u001b[0m\u001b[0;34m)\u001b[0m\u001b[0;34m\u001b[0m\u001b[0;34m\u001b[0m\u001b[0m\n\u001b[0m\u001b[1;32m    565\u001b[0m             \u001b[0mos\u001b[0m\u001b[0;34m.\u001b[0m\u001b[0munlink\u001b[0m\u001b[0;34m(\u001b[0m\u001b[0msrc\u001b[0m\u001b[0;34m)\u001b[0m\u001b[0;34m\u001b[0m\u001b[0;34m\u001b[0m\u001b[0m\n\u001b[1;32m    566\u001b[0m     \u001b[0;32mreturn\u001b[0m \u001b[0mreal_dst\u001b[0m\u001b[0;34m\u001b[0m\u001b[0;34m\u001b[0m\u001b[0m\n",
      "\u001b[0;32m/usr/lib/python3.6/shutil.py\u001b[0m in \u001b[0;36mcopy2\u001b[0;34m(src, dst, follow_symlinks)\u001b[0m\n\u001b[1;32m    261\u001b[0m     \u001b[0;32mif\u001b[0m \u001b[0mos\u001b[0m\u001b[0;34m.\u001b[0m\u001b[0mpath\u001b[0m\u001b[0;34m.\u001b[0m\u001b[0misdir\u001b[0m\u001b[0;34m(\u001b[0m\u001b[0mdst\u001b[0m\u001b[0;34m)\u001b[0m\u001b[0;34m:\u001b[0m\u001b[0;34m\u001b[0m\u001b[0;34m\u001b[0m\u001b[0m\n\u001b[1;32m    262\u001b[0m         \u001b[0mdst\u001b[0m \u001b[0;34m=\u001b[0m \u001b[0mos\u001b[0m\u001b[0;34m.\u001b[0m\u001b[0mpath\u001b[0m\u001b[0;34m.\u001b[0m\u001b[0mjoin\u001b[0m\u001b[0;34m(\u001b[0m\u001b[0mdst\u001b[0m\u001b[0;34m,\u001b[0m \u001b[0mos\u001b[0m\u001b[0;34m.\u001b[0m\u001b[0mpath\u001b[0m\u001b[0;34m.\u001b[0m\u001b[0mbasename\u001b[0m\u001b[0;34m(\u001b[0m\u001b[0msrc\u001b[0m\u001b[0;34m)\u001b[0m\u001b[0;34m)\u001b[0m\u001b[0;34m\u001b[0m\u001b[0;34m\u001b[0m\u001b[0m\n\u001b[0;32m--> 263\u001b[0;31m     \u001b[0mcopyfile\u001b[0m\u001b[0;34m(\u001b[0m\u001b[0msrc\u001b[0m\u001b[0;34m,\u001b[0m \u001b[0mdst\u001b[0m\u001b[0;34m,\u001b[0m \u001b[0mfollow_symlinks\u001b[0m\u001b[0;34m=\u001b[0m\u001b[0mfollow_symlinks\u001b[0m\u001b[0;34m)\u001b[0m\u001b[0;34m\u001b[0m\u001b[0;34m\u001b[0m\u001b[0m\n\u001b[0m\u001b[1;32m    264\u001b[0m     \u001b[0mcopystat\u001b[0m\u001b[0;34m(\u001b[0m\u001b[0msrc\u001b[0m\u001b[0;34m,\u001b[0m \u001b[0mdst\u001b[0m\u001b[0;34m,\u001b[0m \u001b[0mfollow_symlinks\u001b[0m\u001b[0;34m=\u001b[0m\u001b[0mfollow_symlinks\u001b[0m\u001b[0;34m)\u001b[0m\u001b[0;34m\u001b[0m\u001b[0;34m\u001b[0m\u001b[0m\n\u001b[1;32m    265\u001b[0m     \u001b[0;32mreturn\u001b[0m \u001b[0mdst\u001b[0m\u001b[0;34m\u001b[0m\u001b[0;34m\u001b[0m\u001b[0m\n",
      "\u001b[0;32m/usr/lib/python3.6/shutil.py\u001b[0m in \u001b[0;36mcopyfile\u001b[0;34m(src, dst, follow_symlinks)\u001b[0m\n\u001b[1;32m    118\u001b[0m         \u001b[0mos\u001b[0m\u001b[0;34m.\u001b[0m\u001b[0msymlink\u001b[0m\u001b[0;34m(\u001b[0m\u001b[0mos\u001b[0m\u001b[0;34m.\u001b[0m\u001b[0mreadlink\u001b[0m\u001b[0;34m(\u001b[0m\u001b[0msrc\u001b[0m\u001b[0;34m)\u001b[0m\u001b[0;34m,\u001b[0m \u001b[0mdst\u001b[0m\u001b[0;34m)\u001b[0m\u001b[0;34m\u001b[0m\u001b[0;34m\u001b[0m\u001b[0m\n\u001b[1;32m    119\u001b[0m     \u001b[0;32melse\u001b[0m\u001b[0;34m:\u001b[0m\u001b[0;34m\u001b[0m\u001b[0;34m\u001b[0m\u001b[0m\n\u001b[0;32m--> 120\u001b[0;31m         \u001b[0;32mwith\u001b[0m \u001b[0mopen\u001b[0m\u001b[0;34m(\u001b[0m\u001b[0msrc\u001b[0m\u001b[0;34m,\u001b[0m \u001b[0;34m'rb'\u001b[0m\u001b[0;34m)\u001b[0m \u001b[0;32mas\u001b[0m \u001b[0mfsrc\u001b[0m\u001b[0;34m:\u001b[0m\u001b[0;34m\u001b[0m\u001b[0;34m\u001b[0m\u001b[0m\n\u001b[0m\u001b[1;32m    121\u001b[0m             \u001b[0;32mwith\u001b[0m \u001b[0mopen\u001b[0m\u001b[0;34m(\u001b[0m\u001b[0mdst\u001b[0m\u001b[0;34m,\u001b[0m \u001b[0;34m'wb'\u001b[0m\u001b[0;34m)\u001b[0m \u001b[0;32mas\u001b[0m \u001b[0mfdst\u001b[0m\u001b[0;34m:\u001b[0m\u001b[0;34m\u001b[0m\u001b[0;34m\u001b[0m\u001b[0m\n\u001b[1;32m    122\u001b[0m                 \u001b[0mcopyfileobj\u001b[0m\u001b[0;34m(\u001b[0m\u001b[0mfsrc\u001b[0m\u001b[0;34m,\u001b[0m \u001b[0mfdst\u001b[0m\u001b[0;34m)\u001b[0m\u001b[0;34m\u001b[0m\u001b[0;34m\u001b[0m\u001b[0m\n",
      "\u001b[0;31mFileNotFoundError\u001b[0m: [Errno 2] No such file or directory: '/storage/Study/DBO/project/data/combined_dataset/NISDCC-offline-all-001-051-6g/NISDCC-001_001_001_6g.PNG'"
     ]
    }
   ],
   "source": [
    "for root, dirs, files in os.walk(base_path):\n",
    "    for i in files:\n",
    "        filepath = os.path.join(base_path, i)\n",
    "        namesplit = i.split(\"-\")[1].split(\"_\")\n",
    "        # print(namesplit)\n",
    "        if namesplit[0] == namesplit[1]:\n",
    "            print(\"From: \", filepath)\n",
    "            print(\"To: \", os.path.join(genuine_dir,namesplit[1],i))\n",
    "\n",
    "            try:\n",
    "                os.mkdir(os.path.join(genuine_dir, \"2222\"+namesplit[1]))\n",
    "            except:\n",
    "                pass\n",
    "\n",
    "            shutil.move(filepath, os.path.join(genuine_dir,\"2222\"+namesplit[1],i))\n",
    "\n",
    "        else:\n",
    "\n",
    "            try:\n",
    "                os.mkdir(os.path.join(forged_dir, \"2222\"+namesplit[1]+\"_forg\"))\n",
    "            except:\n",
    "                pass\n",
    "\n",
    "            shutil.move(filepath, os.path.join(forged_dir,\"2222\"+namesplit[1]+\"_forg\",i))\n",
    "\n",
    "            print(\"From: \", filepath)\n",
    "            print(\"To: \", os.path.join(forged_dir,namesplit[1]+\"_forg\",i))"
   ]
  },
  {
   "cell_type": "code",
   "execution_count": null,
   "metadata": {},
   "outputs": [],
   "source": []
  },
  {
   "cell_type": "code",
   "execution_count": null,
   "metadata": {},
   "outputs": [],
   "source": []
  },
  {
   "cell_type": "code",
   "execution_count": null,
   "metadata": {},
   "outputs": [],
   "source": []
  },
  {
   "cell_type": "code",
   "execution_count": null,
   "metadata": {},
   "outputs": [],
   "source": []
  },
  {
   "cell_type": "code",
   "execution_count": null,
   "metadata": {},
   "outputs": [],
   "source": [
    "df = pd.merge(dataframes[i].assign(foo=1), dataframes[i].assign(foo=1), on='foo', how='outer').drop('foo',1).assign(flag=1)\n",
    "df['concat_x'] = df['0_x'] + '/' + df['1_x']\n",
    "df['concat_y'] = df['0_y'] + '/' + df['1_y']\n",
    "df[['concat_x', 'concat_y', 'flag']]"
   ]
  },
  {
   "cell_type": "code",
   "execution_count": null,
   "metadata": {},
   "outputs": [],
   "source": []
  },
  {
   "cell_type": "code",
   "execution_count": null,
   "metadata": {},
   "outputs": [],
   "source": []
  },
  {
   "cell_type": "code",
   "execution_count": null,
   "metadata": {},
   "outputs": [],
   "source": []
  },
  {
   "cell_type": "code",
   "execution_count": null,
   "metadata": {},
   "outputs": [],
   "source": [
    "                "
   ]
  },
  {
   "cell_type": "code",
   "execution_count": null,
   "metadata": {},
   "outputs": [],
   "source": []
  },
  {
   "cell_type": "code",
   "execution_count": null,
   "metadata": {},
   "outputs": [],
   "source": []
  }
 ]
}